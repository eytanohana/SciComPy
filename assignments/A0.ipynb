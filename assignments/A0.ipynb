{
 "cells": [
  {
   "cell_type": "markdown",
   "metadata": {},
   "source": [
    "# Assignment 0: Python, NumPy, Matplotlib\n",
    "## [Scientific Computing with Python](https://scicompy.yoavram.com/)\n",
    "## Yoav Ram"
   ]
  },
  {
   "cell_type": "markdown",
   "metadata": {},
   "source": [
    "# General instructions\n",
    "\n",
    "1. Questions regarding the exercises should be posted to the course forum at the designated group (i.e. \"assignment 0\"). You can post questions anonymously. You can also visit the Office Hours, but please do not email the course staff with questions about the exercise.\n",
    "1. This is assignment should **not** be submitted and will **not** be graded.\n",
    "1. Lines that end with `###`, as well as cells that start with `###`, are unitests for your solutions, don't change them."
   ]
  },
  {
   "cell_type": "code",
   "execution_count": 1,
   "metadata": {},
   "outputs": [],
   "source": [
    "%matplotlib inline\n",
    "import matplotlib.pyplot as plt\n",
    "import numpy as np\n",
    "\n",
    "from datetime import date\n",
    "import string\n",
    "import pickle"
   ]
  },
  {
   "cell_type": "markdown",
   "metadata": {},
   "source": [
    "# Exercise 1"
   ]
  },
  {
   "cell_type": "markdown",
   "metadata": {},
   "source": [
    "The following cell loads a dictionary called **presidents_by_party** (taken from https://github.com/inglesp/python-data-structure-exercises)\n",
    "\n",
    "The keys of the dictionaries are US political party names, and the values are lists of presidents from each party.\n",
    "Each president is represented by a dictionary in which the keys are properties, e.g. `name` and `born`, and the values are the property values, e.g. `George Washington` and `date(1732, 2, 22)`. Dates are given using the Python `datetime.date` type."
   ]
  },
  {
   "cell_type": "code",
   "execution_count": 2,
   "metadata": {
    "scrolled": true
   },
   "outputs": [
    {
     "data": {
      "text/plain": [
       "{'Independent': [{'name': 'George Washington',\n",
       "   'born': datetime.date(1732, 2, 22),\n",
       "   'took_office': datetime.date(1789, 4, 30),\n",
       "   'left_office': datetime.date(1797, 3, 4)}],\n",
       " 'Federalist': [{'name': 'John Adams',\n",
       "   'born': datetime.date(1735, 10, 30),\n",
       "   'took_office': datetime.date(1797, 3, 4),\n",
       "   'left_office': datetime.date(1801, 3, 4)}],\n",
       " 'Democratic-Republican': [{'name': 'Thomas Jefferson',\n",
       "   'born': datetime.date(1743, 4, 13),\n",
       "   'took_office': datetime.date(1801, 3, 4),\n",
       "   'left_office': datetime.date(1809, 3, 4)},\n",
       "  {'name': 'James Madison',\n",
       "   'born': datetime.date(1751, 3, 16),\n",
       "   'took_office': datetime.date(1809, 3, 4),\n",
       "   'left_office': datetime.date(1817, 3, 4)},\n",
       "  {'name': 'James Monroe',\n",
       "   'born': datetime.date(1758, 4, 28),\n",
       "   'took_office': datetime.date(1817, 3, 4),\n",
       "   'left_office': datetime.date(1825, 3, 4)},\n",
       "  {'name': 'John Quincy Adams',\n",
       "   'born': datetime.date(1767, 7, 11),\n",
       "   'took_office': datetime.date(1825, 3, 4),\n",
       "   'left_office': datetime.date(1829, 3, 4)}],\n",
       " 'Democratic': [{'name': 'Andrew Jackson',\n",
       "   'born': datetime.date(1767, 3, 15),\n",
       "   'took_office': datetime.date(1829, 3, 4),\n",
       "   'left_office': datetime.date(1837, 3, 4)},\n",
       "  {'name': 'Martin Van Buren',\n",
       "   'born': datetime.date(1782, 12, 5),\n",
       "   'took_office': datetime.date(1837, 3, 4),\n",
       "   'left_office': datetime.date(1841, 3, 4)},\n",
       "  {'name': 'James K. Polk',\n",
       "   'born': datetime.date(1795, 11, 2),\n",
       "   'took_office': datetime.date(1845, 3, 4),\n",
       "   'left_office': datetime.date(1849, 3, 4)},\n",
       "  {'name': 'Franklin Pierce',\n",
       "   'born': datetime.date(1804, 11, 23),\n",
       "   'took_office': datetime.date(1853, 3, 4),\n",
       "   'left_office': datetime.date(1857, 3, 4)},\n",
       "  {'name': 'James Buchanan',\n",
       "   'born': datetime.date(1791, 4, 23),\n",
       "   'took_office': datetime.date(1857, 3, 4),\n",
       "   'left_office': datetime.date(1861, 3, 4)},\n",
       "  {'name': 'Andrew Johnson',\n",
       "   'born': datetime.date(1808, 12, 29),\n",
       "   'took_office': datetime.date(1865, 4, 15),\n",
       "   'left_office': datetime.date(1869, 3, 4)},\n",
       "  {'name': 'Grover Cleveland',\n",
       "   'born': datetime.date(1837, 3, 18),\n",
       "   'took_office': datetime.date(1885, 3, 4),\n",
       "   'left_office': datetime.date(1889, 3, 4)},\n",
       "  {'name': 'Grover Cleveland',\n",
       "   'born': datetime.date(1837, 3, 18),\n",
       "   'took_office': datetime.date(1893, 3, 4),\n",
       "   'left_office': datetime.date(1897, 3, 4)},\n",
       "  {'name': 'Woodrow Wilson',\n",
       "   'born': datetime.date(1856, 12, 28),\n",
       "   'took_office': datetime.date(1913, 3, 4),\n",
       "   'left_office': datetime.date(1921, 3, 4)},\n",
       "  {'name': 'Franklin D. Roosevelt',\n",
       "   'born': datetime.date(1882, 1, 30),\n",
       "   'took_office': datetime.date(1933, 3, 4),\n",
       "   'left_office': datetime.date(1945, 4, 12)},\n",
       "  {'name': 'Harry S. Truman',\n",
       "   'born': datetime.date(1884, 5, 8),\n",
       "   'took_office': datetime.date(1945, 4, 12),\n",
       "   'left_office': datetime.date(1953, 1, 20)},\n",
       "  {'name': 'John F. Kennedy',\n",
       "   'born': datetime.date(1917, 5, 29),\n",
       "   'took_office': datetime.date(1961, 1, 20),\n",
       "   'left_office': datetime.date(1963, 11, 22)},\n",
       "  {'name': 'Lyndon B. Johnson',\n",
       "   'born': datetime.date(1908, 8, 27),\n",
       "   'took_office': datetime.date(1963, 11, 22),\n",
       "   'left_office': datetime.date(1969, 1, 20)},\n",
       "  {'name': 'Jimmy Carter',\n",
       "   'born': datetime.date(1924, 10, 1),\n",
       "   'took_office': datetime.date(1977, 1, 20),\n",
       "   'left_office': datetime.date(1981, 1, 20)},\n",
       "  {'name': 'Bill Clinton',\n",
       "   'born': datetime.date(1946, 8, 19),\n",
       "   'took_office': datetime.date(1993, 1, 20),\n",
       "   'left_office': datetime.date(2001, 1, 20)},\n",
       "  {'name': 'Barack Obama',\n",
       "   'born': datetime.date(1961, 8, 4),\n",
       "   'took_office': datetime.date(2009, 1, 20),\n",
       "   'left_office': datetime.date(2017, 1, 20)}],\n",
       " 'Whig': [{'name': 'William Henry Harrison',\n",
       "   'born': datetime.date(1773, 2, 9),\n",
       "   'took_office': datetime.date(1841, 3, 4),\n",
       "   'left_office': datetime.date(1841, 4, 4)},\n",
       "  {'name': 'John Tyler',\n",
       "   'born': datetime.date(1790, 3, 29),\n",
       "   'took_office': datetime.date(1841, 4, 4),\n",
       "   'left_office': datetime.date(1845, 3, 4)},\n",
       "  {'name': 'Zachary Taylor',\n",
       "   'born': datetime.date(1784, 11, 24),\n",
       "   'took_office': datetime.date(1849, 3, 4),\n",
       "   'left_office': datetime.date(1850, 7, 9)},\n",
       "  {'name': 'Millard Fillmore',\n",
       "   'born': datetime.date(1800, 1, 7),\n",
       "   'took_office': datetime.date(1850, 7, 9),\n",
       "   'left_office': datetime.date(1853, 3, 4)}],\n",
       " 'Republican': [{'name': 'Abraham Lincoln',\n",
       "   'born': datetime.date(1809, 2, 12),\n",
       "   'took_office': datetime.date(1861, 3, 4),\n",
       "   'left_office': datetime.date(1865, 4, 15)},\n",
       "  {'name': 'Ulysses S. Grant',\n",
       "   'born': datetime.date(1822, 4, 27),\n",
       "   'took_office': datetime.date(1869, 3, 4),\n",
       "   'left_office': datetime.date(1877, 3, 4)},\n",
       "  {'name': 'Rutherford B. Hayes',\n",
       "   'born': datetime.date(1822, 10, 4),\n",
       "   'took_office': datetime.date(1877, 3, 4),\n",
       "   'left_office': datetime.date(1881, 3, 4)},\n",
       "  {'name': 'James A. Garfield',\n",
       "   'born': datetime.date(1831, 11, 19),\n",
       "   'took_office': datetime.date(1881, 3, 4),\n",
       "   'left_office': datetime.date(1881, 9, 19)},\n",
       "  {'name': 'Chester A. Arthur',\n",
       "   'born': datetime.date(1829, 10, 5),\n",
       "   'took_office': datetime.date(1881, 9, 19),\n",
       "   'left_office': datetime.date(1885, 3, 4)},\n",
       "  {'name': 'Benjamin Harrison',\n",
       "   'born': datetime.date(1833, 8, 20),\n",
       "   'took_office': datetime.date(1889, 3, 4),\n",
       "   'left_office': datetime.date(1893, 3, 4)},\n",
       "  {'name': 'William McKinley',\n",
       "   'born': datetime.date(1843, 1, 29),\n",
       "   'took_office': datetime.date(1897, 3, 4),\n",
       "   'left_office': datetime.date(1901, 9, 14)},\n",
       "  {'name': 'Theodore Roosevelt',\n",
       "   'born': datetime.date(1858, 10, 27),\n",
       "   'took_office': datetime.date(1901, 9, 14),\n",
       "   'left_office': datetime.date(1909, 3, 4)},\n",
       "  {'name': 'William Howard Taft',\n",
       "   'born': datetime.date(1857, 9, 15),\n",
       "   'took_office': datetime.date(1909, 3, 4),\n",
       "   'left_office': datetime.date(1913, 3, 4)},\n",
       "  {'name': 'Warren G. Harding',\n",
       "   'born': datetime.date(1865, 11, 2),\n",
       "   'took_office': datetime.date(1921, 3, 4),\n",
       "   'left_office': datetime.date(1923, 8, 2)},\n",
       "  {'name': 'Calvin Coolidge',\n",
       "   'born': datetime.date(1872, 7, 4),\n",
       "   'took_office': datetime.date(1923, 8, 2),\n",
       "   'left_office': datetime.date(1929, 3, 4)},\n",
       "  {'name': 'Herbert Hoover',\n",
       "   'born': datetime.date(1874, 8, 10),\n",
       "   'took_office': datetime.date(1929, 3, 4),\n",
       "   'left_office': datetime.date(1933, 3, 4)},\n",
       "  {'name': 'Dwight D. Eisenhower',\n",
       "   'born': datetime.date(1890, 10, 14),\n",
       "   'took_office': datetime.date(1953, 1, 20),\n",
       "   'left_office': datetime.date(1961, 1, 20)},\n",
       "  {'name': 'Richard Nixon',\n",
       "   'born': datetime.date(1913, 1, 9),\n",
       "   'took_office': datetime.date(1969, 1, 20),\n",
       "   'left_office': datetime.date(1974, 8, 9)},\n",
       "  {'name': 'Gerald Ford',\n",
       "   'born': datetime.date(1913, 7, 14),\n",
       "   'took_office': datetime.date(1974, 8, 9),\n",
       "   'left_office': datetime.date(1977, 1, 20)},\n",
       "  {'name': 'Ronald Reagan',\n",
       "   'born': datetime.date(1911, 2, 6),\n",
       "   'took_office': datetime.date(1981, 1, 20),\n",
       "   'left_office': datetime.date(1989, 1, 20)},\n",
       "  {'name': 'George H. W. Bush',\n",
       "   'born': datetime.date(1924, 6, 12),\n",
       "   'took_office': datetime.date(1989, 1, 20),\n",
       "   'left_office': datetime.date(1993, 1, 20)},\n",
       "  {'name': 'George W. Bush',\n",
       "   'born': datetime.date(1946, 7, 6),\n",
       "   'took_office': datetime.date(2001, 1, 20),\n",
       "   'left_office': datetime.date(2009, 1, 20)}]}"
      ]
     },
     "execution_count": 2,
     "metadata": {},
     "output_type": "execute_result"
    }
   ],
   "source": [
    "with open('../data/presidents.obj', 'rb') as f:\n",
    "    presidents_by_party = pickle.load(f)\n",
    "presidents_by_party"
   ]
  },
  {
   "cell_type": "markdown",
   "metadata": {},
   "source": [
    "**Add Donald Trump to the correct party**."
   ]
  },
  {
   "cell_type": "code",
   "execution_count": 3,
   "metadata": {},
   "outputs": [],
   "source": [
    "# your code here #\n",
    "donnie = {'name': 'Donald J. Trump', 'born': date(1946, 6, 14),\n",
    "         'took_office': date(2017, 1, 20)}\n",
    "presidents_by_party['Republican'].append(donnie)"
   ]
  },
  {
   "cell_type": "code",
   "execution_count": 4,
   "metadata": {},
   "outputs": [
    {
     "data": {
      "text/plain": [
       "19"
      ]
     },
     "execution_count": 4,
     "metadata": {},
     "output_type": "execute_result"
    }
   ],
   "source": [
    "len(presidents_by_party['Republican']) ###"
   ]
  },
  {
   "cell_type": "markdown",
   "metadata": {},
   "source": [
    "**Create dictionary called `parties`** with `party_name` as a key and a tuple `(number_of_presidents, last_president_name)` as a value.\n",
    "\n",
    "Bonus: use a [dictionary comprehension](https://dbader.org/blog/list-dict-set-comprehensions-in-python)."
   ]
  },
  {
   "cell_type": "code",
   "execution_count": 5,
   "metadata": {},
   "outputs": [],
   "source": [
    "# your code here #\n",
    "parties = {party: (len(presidents), presidents[-1]['name']) for party, presidents in presidents_by_party.items()}"
   ]
  },
  {
   "cell_type": "code",
   "execution_count": 7,
   "metadata": {},
   "outputs": [
    {
     "data": {
      "text/plain": [
       "(16, 'Barack Obama')"
      ]
     },
     "execution_count": 7,
     "metadata": {},
     "output_type": "execute_result"
    }
   ],
   "source": [
    "parties['Democratic'] ###"
   ]
  },
  {
   "cell_type": "markdown",
   "metadata": {},
   "source": [
    "**Create a list called `presidents`** that contains all the president dictionaries."
   ]
  },
  {
   "cell_type": "code",
   "execution_count": 8,
   "metadata": {
    "scrolled": true
   },
   "outputs": [],
   "source": [
    "# your code here #\n",
    "presidents = []\n",
    "\n",
    "for key in presidents_by_party:\n",
    "    for pres in presidents_by_party[key]:\n",
    "        presidents.append(pres)"
   ]
  },
  {
   "cell_type": "code",
   "execution_count": 9,
   "metadata": {},
   "outputs": [
    {
     "data": {
      "text/plain": [
       "45"
      ]
     },
     "execution_count": 9,
     "metadata": {},
     "output_type": "execute_result"
    }
   ],
   "source": [
    "len(presidents)"
   ]
  },
  {
   "cell_type": "markdown",
   "metadata": {},
   "source": [
    "**Sort the presidents list** by ascending date of taking office."
   ]
  },
  {
   "cell_type": "code",
   "execution_count": 10,
   "metadata": {},
   "outputs": [],
   "source": [
    "# your code here #\n",
    "presidents = sorted(presidents, key=lambda x: x['took_office'])"
   ]
  },
  {
   "cell_type": "code",
   "execution_count": 11,
   "metadata": {},
   "outputs": [
    {
     "data": {
      "text/plain": [
       "[{'name': 'George Washington',\n",
       "  'born': datetime.date(1732, 2, 22),\n",
       "  'took_office': datetime.date(1789, 4, 30),\n",
       "  'left_office': datetime.date(1797, 3, 4)},\n",
       " {'name': 'John Adams',\n",
       "  'born': datetime.date(1735, 10, 30),\n",
       "  'took_office': datetime.date(1797, 3, 4),\n",
       "  'left_office': datetime.date(1801, 3, 4)},\n",
       " {'name': 'Thomas Jefferson',\n",
       "  'born': datetime.date(1743, 4, 13),\n",
       "  'took_office': datetime.date(1801, 3, 4),\n",
       "  'left_office': datetime.date(1809, 3, 4)},\n",
       " {'name': 'James Madison',\n",
       "  'born': datetime.date(1751, 3, 16),\n",
       "  'took_office': datetime.date(1809, 3, 4),\n",
       "  'left_office': datetime.date(1817, 3, 4)},\n",
       " {'name': 'James Monroe',\n",
       "  'born': datetime.date(1758, 4, 28),\n",
       "  'took_office': datetime.date(1817, 3, 4),\n",
       "  'left_office': datetime.date(1825, 3, 4)},\n",
       " {'name': 'John Quincy Adams',\n",
       "  'born': datetime.date(1767, 7, 11),\n",
       "  'took_office': datetime.date(1825, 3, 4),\n",
       "  'left_office': datetime.date(1829, 3, 4)},\n",
       " {'name': 'Andrew Jackson',\n",
       "  'born': datetime.date(1767, 3, 15),\n",
       "  'took_office': datetime.date(1829, 3, 4),\n",
       "  'left_office': datetime.date(1837, 3, 4)},\n",
       " {'name': 'Martin Van Buren',\n",
       "  'born': datetime.date(1782, 12, 5),\n",
       "  'took_office': datetime.date(1837, 3, 4),\n",
       "  'left_office': datetime.date(1841, 3, 4)},\n",
       " {'name': 'William Henry Harrison',\n",
       "  'born': datetime.date(1773, 2, 9),\n",
       "  'took_office': datetime.date(1841, 3, 4),\n",
       "  'left_office': datetime.date(1841, 4, 4)},\n",
       " {'name': 'John Tyler',\n",
       "  'born': datetime.date(1790, 3, 29),\n",
       "  'took_office': datetime.date(1841, 4, 4),\n",
       "  'left_office': datetime.date(1845, 3, 4)},\n",
       " {'name': 'James K. Polk',\n",
       "  'born': datetime.date(1795, 11, 2),\n",
       "  'took_office': datetime.date(1845, 3, 4),\n",
       "  'left_office': datetime.date(1849, 3, 4)},\n",
       " {'name': 'Zachary Taylor',\n",
       "  'born': datetime.date(1784, 11, 24),\n",
       "  'took_office': datetime.date(1849, 3, 4),\n",
       "  'left_office': datetime.date(1850, 7, 9)},\n",
       " {'name': 'Millard Fillmore',\n",
       "  'born': datetime.date(1800, 1, 7),\n",
       "  'took_office': datetime.date(1850, 7, 9),\n",
       "  'left_office': datetime.date(1853, 3, 4)},\n",
       " {'name': 'Franklin Pierce',\n",
       "  'born': datetime.date(1804, 11, 23),\n",
       "  'took_office': datetime.date(1853, 3, 4),\n",
       "  'left_office': datetime.date(1857, 3, 4)},\n",
       " {'name': 'James Buchanan',\n",
       "  'born': datetime.date(1791, 4, 23),\n",
       "  'took_office': datetime.date(1857, 3, 4),\n",
       "  'left_office': datetime.date(1861, 3, 4)},\n",
       " {'name': 'Abraham Lincoln',\n",
       "  'born': datetime.date(1809, 2, 12),\n",
       "  'took_office': datetime.date(1861, 3, 4),\n",
       "  'left_office': datetime.date(1865, 4, 15)},\n",
       " {'name': 'Andrew Johnson',\n",
       "  'born': datetime.date(1808, 12, 29),\n",
       "  'took_office': datetime.date(1865, 4, 15),\n",
       "  'left_office': datetime.date(1869, 3, 4)},\n",
       " {'name': 'Ulysses S. Grant',\n",
       "  'born': datetime.date(1822, 4, 27),\n",
       "  'took_office': datetime.date(1869, 3, 4),\n",
       "  'left_office': datetime.date(1877, 3, 4)},\n",
       " {'name': 'Rutherford B. Hayes',\n",
       "  'born': datetime.date(1822, 10, 4),\n",
       "  'took_office': datetime.date(1877, 3, 4),\n",
       "  'left_office': datetime.date(1881, 3, 4)},\n",
       " {'name': 'James A. Garfield',\n",
       "  'born': datetime.date(1831, 11, 19),\n",
       "  'took_office': datetime.date(1881, 3, 4),\n",
       "  'left_office': datetime.date(1881, 9, 19)},\n",
       " {'name': 'Chester A. Arthur',\n",
       "  'born': datetime.date(1829, 10, 5),\n",
       "  'took_office': datetime.date(1881, 9, 19),\n",
       "  'left_office': datetime.date(1885, 3, 4)},\n",
       " {'name': 'Grover Cleveland',\n",
       "  'born': datetime.date(1837, 3, 18),\n",
       "  'took_office': datetime.date(1885, 3, 4),\n",
       "  'left_office': datetime.date(1889, 3, 4)},\n",
       " {'name': 'Benjamin Harrison',\n",
       "  'born': datetime.date(1833, 8, 20),\n",
       "  'took_office': datetime.date(1889, 3, 4),\n",
       "  'left_office': datetime.date(1893, 3, 4)},\n",
       " {'name': 'Grover Cleveland',\n",
       "  'born': datetime.date(1837, 3, 18),\n",
       "  'took_office': datetime.date(1893, 3, 4),\n",
       "  'left_office': datetime.date(1897, 3, 4)},\n",
       " {'name': 'William McKinley',\n",
       "  'born': datetime.date(1843, 1, 29),\n",
       "  'took_office': datetime.date(1897, 3, 4),\n",
       "  'left_office': datetime.date(1901, 9, 14)},\n",
       " {'name': 'Theodore Roosevelt',\n",
       "  'born': datetime.date(1858, 10, 27),\n",
       "  'took_office': datetime.date(1901, 9, 14),\n",
       "  'left_office': datetime.date(1909, 3, 4)},\n",
       " {'name': 'William Howard Taft',\n",
       "  'born': datetime.date(1857, 9, 15),\n",
       "  'took_office': datetime.date(1909, 3, 4),\n",
       "  'left_office': datetime.date(1913, 3, 4)},\n",
       " {'name': 'Woodrow Wilson',\n",
       "  'born': datetime.date(1856, 12, 28),\n",
       "  'took_office': datetime.date(1913, 3, 4),\n",
       "  'left_office': datetime.date(1921, 3, 4)},\n",
       " {'name': 'Warren G. Harding',\n",
       "  'born': datetime.date(1865, 11, 2),\n",
       "  'took_office': datetime.date(1921, 3, 4),\n",
       "  'left_office': datetime.date(1923, 8, 2)},\n",
       " {'name': 'Calvin Coolidge',\n",
       "  'born': datetime.date(1872, 7, 4),\n",
       "  'took_office': datetime.date(1923, 8, 2),\n",
       "  'left_office': datetime.date(1929, 3, 4)},\n",
       " {'name': 'Herbert Hoover',\n",
       "  'born': datetime.date(1874, 8, 10),\n",
       "  'took_office': datetime.date(1929, 3, 4),\n",
       "  'left_office': datetime.date(1933, 3, 4)},\n",
       " {'name': 'Franklin D. Roosevelt',\n",
       "  'born': datetime.date(1882, 1, 30),\n",
       "  'took_office': datetime.date(1933, 3, 4),\n",
       "  'left_office': datetime.date(1945, 4, 12)},\n",
       " {'name': 'Harry S. Truman',\n",
       "  'born': datetime.date(1884, 5, 8),\n",
       "  'took_office': datetime.date(1945, 4, 12),\n",
       "  'left_office': datetime.date(1953, 1, 20)},\n",
       " {'name': 'Dwight D. Eisenhower',\n",
       "  'born': datetime.date(1890, 10, 14),\n",
       "  'took_office': datetime.date(1953, 1, 20),\n",
       "  'left_office': datetime.date(1961, 1, 20)},\n",
       " {'name': 'John F. Kennedy',\n",
       "  'born': datetime.date(1917, 5, 29),\n",
       "  'took_office': datetime.date(1961, 1, 20),\n",
       "  'left_office': datetime.date(1963, 11, 22)},\n",
       " {'name': 'Lyndon B. Johnson',\n",
       "  'born': datetime.date(1908, 8, 27),\n",
       "  'took_office': datetime.date(1963, 11, 22),\n",
       "  'left_office': datetime.date(1969, 1, 20)},\n",
       " {'name': 'Richard Nixon',\n",
       "  'born': datetime.date(1913, 1, 9),\n",
       "  'took_office': datetime.date(1969, 1, 20),\n",
       "  'left_office': datetime.date(1974, 8, 9)},\n",
       " {'name': 'Gerald Ford',\n",
       "  'born': datetime.date(1913, 7, 14),\n",
       "  'took_office': datetime.date(1974, 8, 9),\n",
       "  'left_office': datetime.date(1977, 1, 20)},\n",
       " {'name': 'Jimmy Carter',\n",
       "  'born': datetime.date(1924, 10, 1),\n",
       "  'took_office': datetime.date(1977, 1, 20),\n",
       "  'left_office': datetime.date(1981, 1, 20)},\n",
       " {'name': 'Ronald Reagan',\n",
       "  'born': datetime.date(1911, 2, 6),\n",
       "  'took_office': datetime.date(1981, 1, 20),\n",
       "  'left_office': datetime.date(1989, 1, 20)},\n",
       " {'name': 'George H. W. Bush',\n",
       "  'born': datetime.date(1924, 6, 12),\n",
       "  'took_office': datetime.date(1989, 1, 20),\n",
       "  'left_office': datetime.date(1993, 1, 20)},\n",
       " {'name': 'Bill Clinton',\n",
       "  'born': datetime.date(1946, 8, 19),\n",
       "  'took_office': datetime.date(1993, 1, 20),\n",
       "  'left_office': datetime.date(2001, 1, 20)},\n",
       " {'name': 'George W. Bush',\n",
       "  'born': datetime.date(1946, 7, 6),\n",
       "  'took_office': datetime.date(2001, 1, 20),\n",
       "  'left_office': datetime.date(2009, 1, 20)},\n",
       " {'name': 'Barack Obama',\n",
       "  'born': datetime.date(1961, 8, 4),\n",
       "  'took_office': datetime.date(2009, 1, 20),\n",
       "  'left_office': datetime.date(2017, 1, 20)},\n",
       " {'name': 'Donald J. Trump',\n",
       "  'born': datetime.date(1946, 6, 14),\n",
       "  'took_office': datetime.date(2017, 1, 20)}]"
      ]
     },
     "execution_count": 11,
     "metadata": {},
     "output_type": "execute_result"
    }
   ],
   "source": [
    "presidents"
   ]
  },
  {
   "cell_type": "code",
   "execution_count": 12,
   "metadata": {},
   "outputs": [
    {
     "data": {
      "text/plain": [
       "{'name': 'Donald J. Trump',\n",
       " 'born': datetime.date(1946, 6, 14),\n",
       " 'took_office': datetime.date(2017, 1, 20)}"
      ]
     },
     "execution_count": 12,
     "metadata": {},
     "output_type": "execute_result"
    }
   ],
   "source": [
    "presidents[-1]"
   ]
  },
  {
   "cell_type": "markdown",
   "metadata": {},
   "source": [
    "**Print all the presidents that took office on Jan 20**."
   ]
  },
  {
   "cell_type": "code",
   "execution_count": 13,
   "metadata": {},
   "outputs": [
    {
     "name": "stdout",
     "output_type": "stream",
     "text": [
      "Dwight D. Eisenhower 01/20/53\n",
      "John F. Kennedy 01/20/61\n",
      "Richard Nixon 01/20/69\n",
      "Jimmy Carter 01/20/77\n",
      "Ronald Reagan 01/20/81\n",
      "George H. W. Bush 01/20/89\n",
      "Bill Clinton 01/20/93\n",
      "George W. Bush 01/20/01\n",
      "Barack Obama 01/20/09\n",
      "Donald J. Trump 01/20/17\n"
     ]
    }
   ],
   "source": [
    "# your code here #\n",
    "\n",
    "for pres in presidents:\n",
    "    if pres['took_office'].month == 1 and pres['took_office'].day == 20:\n",
    "        print(pres['name'], pres['took_office'].strftime('%m/%d/%y'))"
   ]
  },
  {
   "cell_type": "markdown",
   "metadata": {},
   "source": [
    "# Exercise 2\n",
    "\n",
    "The following cell defines frequencies arrays for the characters of English, Deutch, and French texts.\n",
    "\n",
    "For example, `en[0]` gives the frequency of `a` in English texts, whereas `de[10]` gives the frequency of `k`. \n",
    "\n",
    "We only consider lowercase letters a-z."
   ]
  },
  {
   "cell_type": "code",
   "execution_count": 14,
   "metadata": {},
   "outputs": [],
   "source": [
    "en = np.array([0.08167, 0.01492, 0.02782, 0.04253, 0.12702, 0.02228, 0.02015,\n",
    "            0.06094, 0.06966, 0.00153, 0.00772, 0.04025, 0.02406, 0.06749,\n",
    "            0.07507, 0.01929, 0.00095, 0.05987, 0.06327, 0.09056, 0.02758,\n",
    "            0.00978, 0.0236 , 0.0015 , 0.01974, 0.00074])\n",
    "de = np.array([0.06516, 0.01886, 0.02732, 0.05076, 0.16396, 0.01656, 0.03009,\n",
    "            0.04577, 0.0655 , 0.00268, 0.01417, 0.03437, 0.02534, 0.09776,\n",
    "            0.02594, 0.0067 , 0.00018, 0.07003, 0.0727 , 0.06154, 0.04166,\n",
    "            0.00846, 0.01921, 0.00034, 0.00039, 0.01134])\n",
    "fr = np.array([0.07636, 0.00901, 0.0326 , 0.03669, 0.14715, 0.01066, 0.00866,\n",
    "            0.00737, 0.07529, 0.00613, 0.00074, 0.05456, 0.02968, 0.07095,\n",
    "            0.05796, 0.02521, 0.01362, 0.06693, 0.07948, 0.07244, 0.06311,\n",
    "            0.01838, 0.00049, 0.00427, 0.00128, 0.00326])"
   ]
  },
  {
   "cell_type": "markdown",
   "metadata": {},
   "source": [
    "We want to use these frequency arrays to determine the language of a text of our choice.\n",
    "\n",
    "First, **write a function called `frequencies(text)`** that takes a string and returns the frequency of each letter in the text in a NumPy array, similar to those above. Disregard casing (`A` is the same as `a`) and punctuation.\n",
    "\n",
    "Apply the function on `../data/Gulliver.txt`, an English book by Jonathan Swift.\n",
    "\n",
    "**Tip**: use the function `ord`."
   ]
  },
  {
   "cell_type": "code",
   "execution_count": 15,
   "metadata": {},
   "outputs": [
    {
     "data": {
      "text/plain": [
       "(65, 90, 97, 122)"
      ]
     },
     "execution_count": 15,
     "metadata": {},
     "output_type": "execute_result"
    }
   ],
   "source": [
    "ord('A'), ord('Z'), ord('a'), ord('z')"
   ]
  },
  {
   "cell_type": "code",
   "execution_count": 16,
   "metadata": {},
   "outputs": [],
   "source": [
    "# your code here #\n",
    "def frequencies(text):\n",
    "    freq = np.zeros(26)\n",
    "    for letter in text:\n",
    "        letter = ord(letter)\n",
    "        if 65 <= letter <= 90:\n",
    "            freq[letter - 65] += 1\n",
    "        elif 97 <= letter <= 122:\n",
    "            freq[letter - 97] += 1\n",
    "    return freq / freq.sum()"
   ]
  },
  {
   "cell_type": "code",
   "execution_count": 17,
   "metadata": {},
   "outputs": [
    {
     "name": "stdout",
     "output_type": "stream",
     "text": [
      "[0.07731152 0.01604013 0.02737605 0.0436618  0.12616461 0.02458682\n",
      " 0.01957454 0.0590067  0.06972233 0.00178594 0.00638608 0.03789601\n",
      " 0.02903709 0.06680405 0.07671621 0.01952875 0.00111153 0.06147538\n",
      " 0.06039715 0.0929187  0.02851255 0.01014113 0.02228883 0.00185255\n",
      " 0.01932059 0.000383  ]\n"
     ]
    }
   ],
   "source": [
    "###\n",
    "with open('../data/Gulliver.txt') as f:\n",
    "    gulliver = f.read()\n",
    "\n",
    "gulliver_freq = frequencies(gulliver)\n",
    "print(gulliver_freq)"
   ]
  },
  {
   "cell_type": "markdown",
   "metadata": {},
   "source": [
    "**Implement a function called `relative_entropy(p, q)`** to compute the relative entropy of a text frequencies array `q` and a language frequencies array `p` according to the following formula:\n",
    "$$\n",
    "re(p, q) = \\sum_{i=1}^{n}{p_i \\log{\\Big(\\frac{p_i}{q_i}\\Big)}}\n",
    "$$\n",
    "where $i=1$ for `a` and $i=n$ for `z`.\n",
    "\n",
    "Relative entropy is a measure of similarity between two distributions or frequencies: the lower the relative entropy of `p` and `q`, the more similar `p` and `q`.\n",
    "\n",
    "Reminder: frequency array values are between 0 and 1 and sum to 1."
   ]
  },
  {
   "cell_type": "code",
   "execution_count": 18,
   "metadata": {},
   "outputs": [],
   "source": [
    "# your code here \n",
    "def relative_entropy(p, q):\n",
    "    return np.sum(p * np.log(p / q))"
   ]
  },
  {
   "cell_type": "code",
   "execution_count": 19,
   "metadata": {},
   "outputs": [
    {
     "name": "stdout",
     "output_type": "stream",
     "text": [
      "en 0.0013824140607544368\n",
      "fr 0.12113178055931956\n",
      "de 0.08528949658982575\n"
     ]
    }
   ],
   "source": [
    "###\n",
    "print('en', relative_entropy(en, gulliver_freq))\n",
    "print('fr', relative_entropy(fr, gulliver_freq))\n",
    "print('de', relative_entropy(de, gulliver_freq))"
   ]
  },
  {
   "cell_type": "markdown",
   "metadata": {},
   "source": [
    "Finally, **write a function called `detect_language(text)`** that takes a text and returns the name of the language most likely for that text, e.g. `en`, `fr`, or `de`."
   ]
  },
  {
   "cell_type": "code",
   "execution_count": 20,
   "metadata": {},
   "outputs": [],
   "source": [
    "# your code here #\n",
    "def detect_language(text):\n",
    "    text_freq = frequencies(text)\n",
    "    \n",
    "    res = {'en': relative_entropy(en, text_freq),\n",
    "    'fr': relative_entropy(fr, text_freq),    \n",
    "    'de': relative_entropy(de, text_freq)}\n",
    "    \n",
    "    return min(res.keys(), key=lambda x: res[x])"
   ]
  },
  {
   "cell_type": "code",
   "execution_count": 21,
   "metadata": {},
   "outputs": [
    {
     "name": "stdout",
     "output_type": "stream",
     "text": [
      "en\n"
     ]
    }
   ],
   "source": [
    "print(detect_language(gulliver)) ###"
   ]
  },
  {
   "cell_type": "code",
   "execution_count": 22,
   "metadata": {},
   "outputs": [
    {
     "name": "stdout",
     "output_type": "stream",
     "text": [
      "en\n"
     ]
    },
    {
     "name": "stderr",
     "output_type": "stream",
     "text": [
      "/Users/eitanohana/opt/anaconda3/lib/python3.7/site-packages/ipykernel_launcher.py:3: RuntimeWarning: divide by zero encountered in true_divide\n",
      "  This is separate from the ipykernel package so we can avoid doing imports until\n"
     ]
    }
   ],
   "source": [
    "###\n",
    "ne_me_quitte_pas = \"\"\"Ne me quitte pas\n",
    "Il faut oublier\n",
    "Tout peut s'oublier\n",
    "Qui s'enfuit déjà\n",
    "Oublier le temps\n",
    "Des malentendus\n",
    "Et le temps perdu\n",
    "A savoir comment\n",
    "Oublier ces heures\n",
    "Qui tuaient parfois\n",
    "A coups de pourquoi\n",
    "Le coeur du bonheurNe me quitte pas\n",
    "Ne me quitte pas\n",
    "Ne me quitte pas\n",
    "Ne me quitte pas\"\"\"\n",
    "\n",
    "print(detect_language(ne_me_quitte_pas))"
   ]
  },
  {
   "cell_type": "markdown",
   "metadata": {},
   "source": [
    "# Exercise 3"
   ]
  },
  {
   "cell_type": "markdown",
   "metadata": {},
   "source": [
    "The file `../data/stocks.csv` contains a table with 1967 rows and 4 columns that represent the quotes (stock prices) for four corporations -- Amazon, Apple, Facebook, and Microsoft -- over 1,967 days starting from 2012-05-18 and ending at 2020-03-13.\n",
    "\n",
    "**Load the data using NumPy**."
   ]
  },
  {
   "cell_type": "code",
   "execution_count": 23,
   "metadata": {},
   "outputs": [
    {
     "data": {
      "text/plain": [
       "(1967, 4)"
      ]
     },
     "execution_count": 23,
     "metadata": {},
     "output_type": "execute_result"
    }
   ],
   "source": [
    "# your code here #\n",
    "data = np.loadtxt('../data/stocks.csv', delimiter=',')\n",
    "data.shape"
   ]
  },
  {
   "cell_type": "code",
   "execution_count": 24,
   "metadata": {},
   "outputs": [
    {
     "data": {
      "text/plain": [
       "array([[ 213.85  ,   75.7685,   38.2318,   29.27  ],\n",
       "       [ 218.11  ,   80.1828,   34.03  ,   29.75  ],\n",
       "       [ 215.33  ,   79.5671,   31.    ,   29.76  ],\n",
       "       ...,\n",
       "       [1820.86  ,  275.43  ,  170.24  ,  153.63  ],\n",
       "       [1676.61  ,  248.23  ,  154.47  ,  139.06  ],\n",
       "       [1785.    ,  277.97  ,  170.28  ,  158.83  ]])"
      ]
     },
     "execution_count": 24,
     "metadata": {},
     "output_type": "execute_result"
    }
   ],
   "source": [
    "data ###"
   ]
  },
  {
   "cell_type": "markdown",
   "metadata": {},
   "source": [
    "**Re-create the plot** with all four companies on the same axis."
   ]
  },
  {
   "cell_type": "code",
   "execution_count": 28,
   "metadata": {},
   "outputs": [
    {
     "data": {
      "image/png": "[encoded data removed]",
      "text/plain": [
       "<Figure size 432x288 with 1 Axes>"
      ]
     },
     "metadata": {
      "needs_background": "light"
     },
     "output_type": "display_data"
    }
   ],
   "source": [
    "plt.plot(data[:,0], label='Amazon')\n",
    "plt.plot(data[:,1], label='Apple')\n",
    "plt.plot(data[:,2], label='Facebook')\n",
    "plt.plot(data[:,3], label='Microsoft')\n",
    "# plt.yscale('log')\n",
    "plt.legend();"
   ]
  },
  {
   "cell_type": "markdown",
   "metadata": {},
   "source": [
    "**Re-create the plot** with each company on a different axis."
   ]
  },
  {
   "cell_type": "code",
   "execution_count": 32,
   "metadata": {},
   "outputs": [
    {
     "data": {
      "image/png": "[encoded data removed]",
      "text/plain": [
       "<Figure size 360x648 with 4 Axes>"
      ]
     },
     "metadata": {
      "needs_background": "light"
     },
     "output_type": "display_data"
    }
   ],
   "source": [
    "fig, ax = plt.subplots(4, 1, figsize=(5,9))\n",
    "\n",
    "ax[0].plot(data[:,0], 'k')\n",
    "ax[0].set_title('amazon')\n",
    "\n",
    "ax[1].plot(data[:,1], 'k')\n",
    "ax[1].set_title('apple')\n",
    "\n",
    "ax[2].plot(data[:,2], 'k')\n",
    "ax[2].set_title('facebook')\n",
    "\n",
    "ax[3].plot(data[:,3], 'k')\n",
    "ax[3].set_title('microsoft')\n",
    "\n",
    "for ax in ax:\n",
    "    ax.axis('off')"
   ]
  },
  {
   "cell_type": "markdown",
   "metadata": {},
   "source": [
    "**End of assignment**"
   ]
  }
 ],
 "metadata": {
  "kernelspec": {
   "display_name": "Python 3",
   "language": "python",
   "name": "python3"
  },
  "language_info": {
   "codemirror_mode": {
    "name": "ipython",
    "version": 3
   },
   "file_extension": ".py",
   "mimetype": "text/x-python",
   "name": "python",
   "nbconvert_exporter": "python",
   "pygments_lexer": "ipython3",
   "version": "3.7.6"
  }
 },
 "nbformat": 4,
 "nbformat_minor": 4
}
