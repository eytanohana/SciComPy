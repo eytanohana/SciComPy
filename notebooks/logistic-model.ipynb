{
 "cells": [
  {
   "cell_type": "markdown",
   "metadata": {},
   "source": [
    "# Logistic Model\n",
    "\n",
    "## [Scientific Computing with Python](http://scicompy.yoavram.com)\n",
    "## Yoav Ram\n",
    "\n",
    "In this session we will understand:\n",
    "- how logistic models can be used to classify or predict categories\n",
    "- how to fit logistic models to data using maximum likelihood and gradient descent, including deriving gradients using the chain rule\n",
    "- how to visualize pair plots, logistic models, histograms, and ROC curves\n",
    "- using scikit-learn for doing logistic regression"
   ]
  },
  {
   "cell_type": "code",
   "execution_count": 57,
   "metadata": {},
   "outputs": [],
   "source": [
    "import zipfile\n",
    "import urllib.request\n",
    "import os.path\n",
    "\n",
    "%matplotlib inline\n",
    "import matplotlib.pyplot as plt\n",
    "import numpy as np\n",
    "from scipy.special import logit, expit\n",
    "from sklearn.linear_model import LogisticRegression\n",
    "from sklearn.metrics import roc_curve\n",
    "import pandas as pd\n",
    "import seaborn as sns\n",
    "blue, green, red = sns.color_palette('muted', 3)\n",
    "sns.set_style('ticks')\n",
    "sns.set_context('talk')"
   ]
  },
  {
   "cell_type": "markdown",
   "metadata": {},
   "source": [
    "In the previous section we used one feature with integer values to predict another integer value.\n",
    "What if we want to predict a category or class (i.e. classify or categorize) instead of predicting a number?\n",
    "\n",
    "There are many ways to classify data (even without a training set), and one of the most common is **logistic regression**. \n",
    "But *regression* is usually used for predicting real numbers, how is regression related to classification?\n",
    "In logistic regression we are trying to regress (predict a real number) the probability of some data being in a one class and not the other. \n",
    "Logistic regression is binomial (two classes, one free variable) but it can easily be expanded to *multinomial logistic regression*, sometimes also known as *softmax regression*."
   ]
  },
  {
   "cell_type": "markdown",
   "metadata": {},
   "source": [
    "# Titanic survival data\n",
    "\n",
    "Let's start with a concrete example.\n",
    "We'll get some data related to the Titanic (courtesy of the [IPython Cookbook](http://ipython-books.github.io/) by Cyrille Rossant, originally from the [kaggle Titanic challenge](https://www.kaggle.com/c/titanic).\n",
    "\n",
    "![](https://upload.wikimedia.org/wikipedia/commons/thumb/b/b8/Cd51-1000g.gif/640px-Cd51-1000g.gif)"
   ]
  },
  {
   "cell_type": "code",
   "execution_count": 58,
   "metadata": {},
   "outputs": [
    {
     "data": {
      "text/html": [
       "<div>\n",
       "<style scoped>\n",
       "    .dataframe tbody tr th:only-of-type {\n",
       "        vertical-align: middle;\n",
       "    }\n",
       "\n",
       "    .dataframe tbody tr th {\n",
       "        vertical-align: top;\n",
       "    }\n",
       "\n",
       "    .dataframe thead th {\n",
       "        text-align: right;\n",
       "    }\n",
       "</style>\n",
       "<table border=\"1\" class=\"dataframe\">\n",
       "  <thead>\n",
       "    <tr style=\"text-align: right;\">\n",
       "      <th></th>\n",
       "      <th>PassengerId</th>\n",
       "      <th>Survived</th>\n",
       "      <th>Pclass</th>\n",
       "      <th>Name</th>\n",
       "      <th>Sex</th>\n",
       "      <th>Age</th>\n",
       "      <th>SibSp</th>\n",
       "      <th>Parch</th>\n",
       "      <th>Ticket</th>\n",
       "      <th>Fare</th>\n",
       "      <th>Cabin</th>\n",
       "      <th>Embarked</th>\n",
       "    </tr>\n",
       "  </thead>\n",
       "  <tbody>\n",
       "    <tr>\n",
       "      <th>0</th>\n",
       "      <td>1</td>\n",
       "      <td>0</td>\n",
       "      <td>3</td>\n",
       "      <td>Braund, Mr. Owen Harris</td>\n",
       "      <td>male</td>\n",
       "      <td>22.0</td>\n",
       "      <td>1</td>\n",
       "      <td>0</td>\n",
       "      <td>A/5 21171</td>\n",
       "      <td>7.2500</td>\n",
       "      <td>NaN</td>\n",
       "      <td>S</td>\n",
       "    </tr>\n",
       "    <tr>\n",
       "      <th>1</th>\n",
       "      <td>2</td>\n",
       "      <td>1</td>\n",
       "      <td>1</td>\n",
       "      <td>Cumings, Mrs. John Bradley (Florence Briggs Th...</td>\n",
       "      <td>female</td>\n",
       "      <td>38.0</td>\n",
       "      <td>1</td>\n",
       "      <td>0</td>\n",
       "      <td>PC 17599</td>\n",
       "      <td>71.2833</td>\n",
       "      <td>C85</td>\n",
       "      <td>C</td>\n",
       "    </tr>\n",
       "    <tr>\n",
       "      <th>2</th>\n",
       "      <td>3</td>\n",
       "      <td>1</td>\n",
       "      <td>3</td>\n",
       "      <td>Heikkinen, Miss. Laina</td>\n",
       "      <td>female</td>\n",
       "      <td>26.0</td>\n",
       "      <td>0</td>\n",
       "      <td>0</td>\n",
       "      <td>STON/O2. 3101282</td>\n",
       "      <td>7.9250</td>\n",
       "      <td>NaN</td>\n",
       "      <td>S</td>\n",
       "    </tr>\n",
       "    <tr>\n",
       "      <th>3</th>\n",
       "      <td>4</td>\n",
       "      <td>1</td>\n",
       "      <td>1</td>\n",
       "      <td>Futrelle, Mrs. Jacques Heath (Lily May Peel)</td>\n",
       "      <td>female</td>\n",
       "      <td>35.0</td>\n",
       "      <td>1</td>\n",
       "      <td>0</td>\n",
       "      <td>113803</td>\n",
       "      <td>53.1000</td>\n",
       "      <td>C123</td>\n",
       "      <td>S</td>\n",
       "    </tr>\n",
       "    <tr>\n",
       "      <th>4</th>\n",
       "      <td>5</td>\n",
       "      <td>0</td>\n",
       "      <td>3</td>\n",
       "      <td>Allen, Mr. William Henry</td>\n",
       "      <td>male</td>\n",
       "      <td>35.0</td>\n",
       "      <td>0</td>\n",
       "      <td>0</td>\n",
       "      <td>373450</td>\n",
       "      <td>8.0500</td>\n",
       "      <td>NaN</td>\n",
       "      <td>S</td>\n",
       "    </tr>\n",
       "  </tbody>\n",
       "</table>\n",
       "</div>"
      ],
      "text/plain": [
       "   PassengerId  Survived  Pclass  \\\n",
       "0            1         0       3   \n",
       "1            2         1       1   \n",
       "2            3         1       3   \n",
       "3            4         1       1   \n",
       "4            5         0       3   \n",
       "\n",
       "                                                Name     Sex   Age  SibSp  \\\n",
       "0                            Braund, Mr. Owen Harris    male  22.0      1   \n",
       "1  Cumings, Mrs. John Bradley (Florence Briggs Th...  female  38.0      1   \n",
       "2                             Heikkinen, Miss. Laina  female  26.0      0   \n",
       "3       Futrelle, Mrs. Jacques Heath (Lily May Peel)  female  35.0      1   \n",
       "4                           Allen, Mr. William Henry    male  35.0      0   \n",
       "\n",
       "   Parch            Ticket     Fare Cabin Embarked  \n",
       "0      0         A/5 21171   7.2500   NaN        S  \n",
       "1      0          PC 17599  71.2833   C85        C  \n",
       "2      0  STON/O2. 3101282   7.9250   NaN        S  \n",
       "3      0            113803  53.1000  C123        S  \n",
       "4      0            373450   8.0500   NaN        S  "
      ]
     },
     "execution_count": 58,
     "metadata": {},
     "output_type": "execute_result"
    }
   ],
   "source": [
    "url = 'https://github.com/ipython-books/cookbook-data/raw/master/titanic.zip'\n",
    "filename = '../data/titanic.zip'\n",
    "if not os.path.exists(filename):\n",
    "    urllib.request.urlretrieve(url, filename)\n",
    "\n",
    "titanic_zip = zipfile.ZipFile(filename)\n",
    "with titanic_zip.open('data/titanic_train.csv') as f:\n",
    "    df = pd.read_csv(f)\n",
    "\n",
    "df.head()"
   ]
  },
  {
   "cell_type": "markdown",
   "metadata": {},
   "source": [
    "OK, let's just work with three features (not just one) - `Sex`, `Age` and `Pclass`.\n",
    "We will treat `Sex` as a category (0 or 1), `Age` as a number (positive intger), `Pclass` as another number, because it is the ticket class.\n",
    "\n",
    "We will try to predict the `Survived` variable, which is simply 0 or 1."
   ]
  },
  {
   "cell_type": "code",
   "execution_count": 59,
   "metadata": {},
   "outputs": [
    {
     "data": {
      "text/html": [
       "<div>\n",
       "<style scoped>\n",
       "    .dataframe tbody tr th:only-of-type {\n",
       "        vertical-align: middle;\n",
       "    }\n",
       "\n",
       "    .dataframe tbody tr th {\n",
       "        vertical-align: top;\n",
       "    }\n",
       "\n",
       "    .dataframe thead th {\n",
       "        text-align: right;\n",
       "    }\n",
       "</style>\n",
       "<table border=\"1\" class=\"dataframe\">\n",
       "  <thead>\n",
       "    <tr style=\"text-align: right;\">\n",
       "      <th></th>\n",
       "      <th>Sex</th>\n",
       "      <th>Age</th>\n",
       "      <th>Pclass</th>\n",
       "      <th>Survived</th>\n",
       "    </tr>\n",
       "  </thead>\n",
       "  <tbody>\n",
       "    <tr>\n",
       "      <th>0</th>\n",
       "      <td>-0.5</td>\n",
       "      <td>22.0</td>\n",
       "      <td>2.0</td>\n",
       "      <td>0.0</td>\n",
       "    </tr>\n",
       "    <tr>\n",
       "      <th>1</th>\n",
       "      <td>0.5</td>\n",
       "      <td>38.0</td>\n",
       "      <td>0.0</td>\n",
       "      <td>1.0</td>\n",
       "    </tr>\n",
       "    <tr>\n",
       "      <th>2</th>\n",
       "      <td>0.5</td>\n",
       "      <td>26.0</td>\n",
       "      <td>2.0</td>\n",
       "      <td>1.0</td>\n",
       "    </tr>\n",
       "    <tr>\n",
       "      <th>3</th>\n",
       "      <td>0.5</td>\n",
       "      <td>35.0</td>\n",
       "      <td>0.0</td>\n",
       "      <td>1.0</td>\n",
       "    </tr>\n",
       "    <tr>\n",
       "      <th>4</th>\n",
       "      <td>-0.5</td>\n",
       "      <td>35.0</td>\n",
       "      <td>2.0</td>\n",
       "      <td>0.0</td>\n",
       "    </tr>\n",
       "  </tbody>\n",
       "</table>\n",
       "</div>"
      ],
      "text/plain": [
       "   Sex   Age  Pclass  Survived\n",
       "0 -0.5  22.0     2.0       0.0\n",
       "1  0.5  38.0     0.0       1.0\n",
       "2  0.5  26.0     2.0       1.0\n",
       "3  0.5  35.0     0.0       1.0\n",
       "4 -0.5  35.0     2.0       0.0"
      ]
     },
     "execution_count": 59,
     "metadata": {},
     "output_type": "execute_result"
    }
   ],
   "source": [
    "features = ['Sex', 'Age', 'Pclass']\n",
    "label = 'Survived'\n",
    "\n",
    "df = df[features + [label]].copy() # what if I don't put .copy?\n",
    "\n",
    "# encode female as 0.5 and male as -0.5: keeps distance of 1 between them, but neither is zero\n",
    "female = df['Sex'] == 'female'\n",
    "df.loc[female, 'Sex'] = 0.5\n",
    "df.loc[~female, 'Sex'] = -0.5\n",
    "\n",
    "# set the best class to 0 instead of 1\n",
    "df['Pclass'] -= 1\n",
    "\n",
    "# convert to float\n",
    "df['Sex'] = df['Sex'].astype(float)\n",
    "df['Pclass'] = df['Pclass'].astype(float)\n",
    "df['Survived'] = df['Survived'].astype(float)\n",
    "\n",
    "\n",
    "df = df.dropna() # remove rows with \"not a number\" elements\n",
    "df.head()"
   ]
  },
  {
   "cell_type": "code",
   "execution_count": 60,
   "metadata": {},
   "outputs": [],
   "source": [
    "X = df[features].values\n",
    "Y = df[label].values"
   ]
  },
  {
   "cell_type": "markdown",
   "metadata": {},
   "source": [
    "# Data exploration"
   ]
  },
  {
   "cell_type": "markdown",
   "metadata": {},
   "source": [
    "Let's look at the distribution of ages between survivers and fatalities using [matplotlib](http://matplotlib.org)'s `hist`."
   ]
  },
  {
   "cell_type": "code",
   "execution_count": 61,
   "metadata": {},
   "outputs": [
    {
     "data": {
      "image/png": "[encoded data removed]",
      "text/plain": [
       "<Figure size 432x288 with 1 Axes>"
      ]
     },
     "metadata": {},
     "output_type": "display_data"
    }
   ],
   "source": [
    "kws = dict(density=True, alpha=0.5, bins=np.arange(0, df['Age'].max(), 5)) # declare keyword arguments once as a dict\n",
    "\n",
    "plt.hist(df.loc[df['Survived']==0, 'Age'], label='Fatalities', **kws) # ** unpacks the kws dict \n",
    "plt.hist(df.loc[df['Survived']==1, 'Age'], label='Survivers', **kws)\n",
    "plt.legend() # labels set in the hist call\n",
    "plt.xlabel(\"Age\")\n",
    "plt.ylabel(\"Frequency\")\n",
    "plt.ylim(0, 0.04)\n",
    "sns.despine()"
   ]
  },
  {
   "cell_type": "markdown",
   "metadata": {},
   "source": [
    "There seems to be a difference at ages <10 and 20-30.\n",
    "What if we separate by men and women?"
   ]
  },
  {
   "cell_type": "code",
   "execution_count": 62,
   "metadata": {},
   "outputs": [
    {
     "data": {
      "image/png": "[encoded data removed]",
      "text/plain": [
       "<Figure size 864x288 with 2 Axes>"
      ]
     },
     "metadata": {},
     "output_type": "display_data"
    }
   ],
   "source": [
    "fig, axes = plt.subplots(1, 2, figsize=(12, 4), sharey=True)\n",
    "\n",
    "ax = axes[0]\n",
    "ax.hist(df.loc[(df['Survived']==0) & (df['Sex']<0), 'Age'], label='Male Fatalities', **kws)\n",
    "ax.hist(df.loc[(df['Survived']==1) & (df['Sex']<0), 'Age'], label='Male Survivers', **kws)\n",
    "ax.legend()\n",
    "ax.set_ylabel(\"Frequency\")\n",
    "ax.set_xlabel(\"Age\")\n",
    "\n",
    "ax=axes[1]\n",
    "ax.hist(df.loc[(df['Survived']==0) & (df['Sex']>0), 'Age'], label='Female Fatalities', **kws)\n",
    "ax.hist(df.loc[(df['Survived']==1) & (df['Sex']>0), 'Age'], label='Female Survivers', **kws)\n",
    "ax.legend()\n",
    "ax.set_xlabel(\"Age\")\n",
    "\n",
    "sns.despine()"
   ]
  },
  {
   "cell_type": "markdown",
   "metadata": {},
   "source": [
    "It does seem like young men (15-25) were more likely to die and young boys (<15) were more likely to survive.\n",
    "For women, it seems that young women (<15) were likely to die and then it's not very clear."
   ]
  },
  {
   "cell_type": "markdown",
   "metadata": {},
   "source": [
    "# Logistic regression\n",
    "\n",
    "$$\n",
    "\\log \\frac{\\hat{y}}{1-\\hat{y}} = z = b + a_1x_1 + \\ldots + a_nx_n \\\\\n",
    "y \\sim Bin(1, \\hat{y}), \\; 0 \\le \\hat{y} \\le 1 \\\\\n",
    "\\hat{y} = \\frac{1}{1+e^{-z}}\n",
    "$$\n",
    "\n",
    "Here we want to classify whether one person survived or not(0 or 1) so $y \\sim Bin(1, p=\\hat{y})$\n",
    "<hr>\n",
    "Let's try and use logistic regression to clear this up (if we can).\n",
    "How does it work?\n",
    "\n",
    "We briefly mentioned that when predicting integer values the normal distribution, and hence the *normal linear model*, is not be the best model, and demonstrated that a [GLM](https://en.wikipedia.org/wiki/Generalized_linear_model) with a Poisson distribution and an log link function intead of a normal distribution performed better.\n",
    "We will do a similar trick here.\n",
    "\n",
    "We first use a linear model (as we did before) to predict the **log-odds** for survival.\n",
    "\n",
    "Odds here is actually short for odds-ratio (OR), which is just the ratio of the probability that something happens and the probability that it does not happen:\n",
    "$$\n",
    "OR = \n",
    "\\frac{P(\\text{Survived})}{P(\\text{Died})}\n",
    "$$\n",
    "so when the odds-ratio is 1, both events are as likley, and when it is >1 (<1) survival (death) is more likely."
   ]
  },
  {
   "cell_type": "markdown",
   "metadata": {},
   "source": [
    "We use the odds-ratio instead of the probability itself, because it is a value between $-\\infty$ and $\\infty$, rather then between 0 and 1, which is important both for mathematical formality, as the linear model is unbounded, and for interpretation - the odds can be doubles again and again (2:1 becoming 4:1 becomnig 8:1...) whereas the probability cannot (what is the double of 75%?).\n",
    "\n",
    "The log-odds, which we mark as $z$, is the natural logarithm of the odds ratio.\n",
    "$$\n",
    "z = \n",
    "\\log{\\frac{P(\\text{Survived})}{P(\\text{Died})}}\n",
    "$$\n",
    "Why use the log-odds? Because (i) it is more mathematically convinient, as log-odds is symmetric in the probability, whereas odds is not, and (ii) it is easier to interpret, as we will see below."
   ]
  },
  {
   "cell_type": "markdown",
   "metadata": {},
   "source": [
    "So to use a linear model for predicting the log-odds, we have $m$ features, $x_1, x_2, \\ldots, x_m$, and we try to estimate coefficients $\\mathbf{W} = (a_1, \\ldots, a_m)$ such that\n",
    "$$\n",
    "z = b + a_1 x_1 + \\ldots + a_m x_m\n",
    "$$\n",
    "or \n",
    "$$\n",
    "z = \\mathbf{X} \\cdot \\mathbf{W} + b\n",
    "$$\n",
    "gives us a good prediction of the true log-odds.\n",
    "\n",
    "From the log-odds we can find the probability for the event to occur using the *logisitic* (hence the name of the method!) or the *expit* function (same function, different name):\n",
    "$$\n",
    "P(\\text{Survived}) = expit(z) = \\frac{1}{1+e^{-z}}\n",
    "$$"
   ]
  },
  {
   "cell_type": "code",
   "execution_count": 81,
   "metadata": {},
   "outputs": [],
   "source": [
    "def logodds(X, W, b):\n",
    "    Z = X @ W + b\n",
    "    return Z"
   ]
  },
  {
   "cell_type": "code",
   "execution_count": 82,
   "metadata": {},
   "outputs": [
    {
     "name": "stdout",
     "output_type": "stream",
     "text": [
      "[24.5 39.5 29.5 36.5 37.5]\n"
     ]
    }
   ],
   "source": [
    "W = np.array([1, 1, 1])\n",
    "b = 1\n",
    "print(logodds(X, W, b)[:5])"
   ]
  },
  {
   "cell_type": "code",
   "execution_count": 83,
   "metadata": {},
   "outputs": [
    {
     "name": "stdout",
     "output_type": "stream",
     "text": [
      "22.5 µs ± 9.24 µs per loop (mean ± std. dev. of 7 runs, 10000 loops each)\n",
      "4.19 µs ± 248 ns per loop (mean ± std. dev. of 7 runs, 100000 loops each)\n"
     ]
    }
   ],
   "source": [
    "%timeit (X * W).sum(axis=1)\n",
    "%timeit X @ W"
   ]
  },
  {
   "cell_type": "markdown",
   "metadata": {
    "toc-hr-collapsed": false
   },
   "source": [
    "# Maximum likelihood\n",
    "\n",
    "Now we want to find suitable $a_i$ such that we make a good prediction. \n",
    "We'll use *maximum likelihood* again.\n",
    "\n",
    "Given data $(x, y)$ where $x = (x_1, \\ldots, x_m)$ are some numbers and $y$ is either 0 or 1, the logistic model provides us an estimate $\\widehat y$\n",
    "\n",
    "$$\n",
    "\\widehat{y} = P(y=1)=\\frac{1}{1+e^{-z}} = \\frac{1}{1+e^{-b -a_1 x_1 - \\ldots -a_m x_m}}\n",
    "$$\n",
    "\n",
    "The likelihood of this model is\n",
    "\n",
    "$$\n",
    "\\mathcal{L}(b, a_1, \\ldots, a_m \\mid x_1, \\ldots, x_m, y) = \n",
    "P(y \\mid b, a_1, \\ldots, a_m, x_1, \\ldots, x_m) = \n",
    "\\cases{\n",
    "    \\widehat{y}, & y=1 \\\\\n",
    "    1-\\widehat{y}, & y=0\n",
    "}\n",
    "$$\n",
    "\n",
    "If we have many $(x,y)$ pairs, and we will **assume that each pair is independent** (which maybe we can't always do, and specifically in the Titanic case we probably shouldn't do, but ok) then the joint likelihood of all the pairs is just the product of all the pair likelihoods: the product is used because the joint probability of independent events occuring is the product of their occurence probabilities.\n",
    "Writing the set of $x$s as $X$ and the corresponding set of $y$s as $Y$, and because $y$ are either 0 or 1,\n",
    "\n",
    "$$\n",
    "\\mathcal{L}(b, a_1, \\ldots, a_m \\mid X, Y) = \n",
    "\\prod_{i} {(\\widehat{y}_i)^{y_i} \\; (1-\\widehat{y}_i) ^{1-y_i}}\n",
    "$$"
   ]
  },
  {
   "cell_type": "markdown",
   "metadata": {},
   "source": [
    "We'll use the log-likelihood because otherwise we will have to deal with a product of really small numbers; so we take the sum of the log of the likelihood $\\mathbf{L}$ of the the $(x, y)$ pairs (sum because the log of products is the sum of logs). The use of log here is not \"magic\", it's a mathematical convenience. It just happens that \"log-likelihood\" sounds very impressive.\n",
    "\n",
    "$$\n",
    "\\log{\\mathcal{L}(b, a_1, \\ldots, a_m \\mid X, Y)} = \n",
    "\\sum_{i} {y_i \\log{\\widehat{y}_i} + (1-y_i) \\log{(1-\\widehat{y}_i)}}\n",
    "$$\n",
    "\n",
    "This is very similar to the negative of an information theory function called [*cross entropy*](https://en.wikipedia.org/wiki/Cross_entropy), and we usually average it over all the samples so that we can compare cross entropies between datasets of different size:\n",
    "\n",
    "$$\n",
    "\\mathbf{J}(b. a_1, \\ldots, a_m, X, Y) = -\\frac{1}{n} \\log{\\mathcal{L}(b, a_1, \\ldots, a_m \\mid X, Y)}\n",
    "$$\n",
    "\n",
    "where $n$ is the number of samples in $X,Y$."
   ]
  },
  {
   "cell_type": "markdown",
   "metadata": {},
   "source": [
    "### Numerical stability\n",
    "\n",
    "Due to numerical issues when using very small or very large numbers, we should play around with the definition a little bit to find an expression that we can calculate with good numerical stability.\n",
    "\n",
    "Note that\n",
    "$$\n",
    "\\log{\\widehat{y}} = -\\log{\\Big(1 + e^{-z}\\Big)}  = -\\log{\\Big(1 + e^{-z}\\Big)} \\\\\n",
    "\\log{(1-\\widehat{y})} = -z - \\log{\\Big(1 + e^{-z}\\Big)}\n",
    "$$\n",
    "and therefore\n",
    "$$\n",
    "y \\log{\\widehat{y}} + (1-y) \\log{(1-\\widehat{y})} = \\\\\n",
    "-y \\log{\\Big(1 + e^{-z}\\Big)} + (1-y)\\Big(-z - \\log{\\Big(1 + e^{-z}\\Big)}\\Big) = \\\\\n",
    "(1-y)z - \\log{\\Big(1 + e^{-z}\\Big)}\n",
    "$$\n",
    "\n",
    "Finally,\n",
    "$$\n",
    "\\log{\\mathcal{L}(b, a_1, \\ldots, a_m \\mid X, Y)} = \n",
    "\\sum_{(x,y) \\in (X,Y)} {-z (1-y) - \\log{\\Big(1 + e^{-z}\\Big)}},\n",
    "$$\n",
    "where $z=\\text{log-odds} = a_1 x_1 + \\ldots + a_n x_n$."
   ]
  },
  {
   "cell_type": "markdown",
   "metadata": {},
   "source": [
    "# Exercise: cross-entropy\n",
    "\n",
    "Implement the cross entropy function.\n",
    "\n",
    "You can check the [solution](../solutions/logistic_model.py)."
   ]
  },
  {
   "cell_type": "code",
   "execution_count": 84,
   "metadata": {},
   "outputs": [],
   "source": [
    "from scipy.special import expit"
   ]
  },
  {
   "cell_type": "code",
   "execution_count": 85,
   "metadata": {},
   "outputs": [],
   "source": [
    "def cross_entropy(X, Y, W, b):\n",
    "    # your code here\n",
    "    Z = logodds(X, W, b)\n",
    "    log_like = -Z * (1 - Y) - np.log(1 + np.exp(-Z))\n",
    "    \n",
    "    return -log_like.mean()"
   ]
  },
  {
   "cell_type": "code",
   "execution_count": 86,
   "metadata": {},
   "outputs": [
    {
     "data": {
      "text/plain": [
       "19.45733884278718"
      ]
     },
     "execution_count": 86,
     "metadata": {},
     "output_type": "execute_result"
    }
   ],
   "source": [
    "cross_entropy(X, Y, W, b)"
   ]
  },
  {
   "cell_type": "markdown",
   "metadata": {},
   "source": [
    "The solution file has two implementations: `_cross_entropy` in pure-python with generator expression and `cross_entropy` using NumPy arrays.\n",
    "\n",
    "Guess which one is faster and compare to your implementation if you want."
   ]
  },
  {
   "cell_type": "markdown",
   "metadata": {},
   "source": [
    "# Gradient descent and the chain rule\n",
    "\n",
    "Now we can minimize the cross entropy using gradient descent.\n",
    "We need to calculate the derivative of the cross entropy with regards to $a_i$.\n",
    "We will use the [chain rule](https://en.wikipedia.org/wiki/Chain_rule): \n",
    "\n",
    "$$\n",
    "f(g(x))' = f'(g(x)) \\cdot g'(x), \n",
    "$$\n",
    "\n",
    "which is easier to write as \n",
    "\n",
    "$$\n",
    "\\frac{dx}{dy} = \\frac{dx}{dz} \\cdot \\frac{dz}{dy}\n",
    "$$\n",
    "\n",
    "because then we can eliminate fractions as if these were fractions and not [infinitesimals](https://en.wikipedia.org/wiki/Infinitesimal)."
   ]
  },
  {
   "cell_type": "markdown",
   "metadata": {},
   "source": [
    "Remember that $z=\\text{log-odds} = a_0 + a_1 x_1 + \\ldots + a_m x_m$ and $\\mathbf{J}$ is the cross entropy function which we want to minimize.\n",
    "\n",
    "Then \n",
    "$$\n",
    "\\frac{\\partial \\mathbf{J}}{\\partial a_k} = \n",
    "\\frac{\\partial \\mathbf{J}}{\\partial \\widehat y} \\cdot \\frac{\\partial \\widehat y}{\\partial z} \\cdot \\frac{\\partial z}{\\partial a_k}\n",
    "$$\n",
    "\n",
    "The easiest one is:\n",
    "\n",
    "$$\n",
    "\\frac{\\partial z}{\\partial a_k} = x_k\n",
    "$$\n",
    "\n",
    "The derivative of the logistic function is (you can verify later):\n",
    "\n",
    "$$\n",
    "\\frac{\\partial \\widehat y}{\\partial z} = \\widehat y ( 1-\\widehat y )\n",
    "$$"
   ]
  },
  {
   "cell_type": "markdown",
   "metadata": {},
   "source": [
    "Next, because $\\frac{d}{dx} log(x) = \\frac{1}{x}$ (again, you can verify this),\n",
    "\n",
    "$$\n",
    "\\frac{\\partial \\mathbf{J}}{\\partial \\widehat y} = \n",
    "- \\frac{\\partial}{\\partial \\widehat y} \\big(y \\log{\\widehat{y}} + (1-y) \\log{(1-\\widehat{y})}\\big) = \\\\\n",
    "-y \\cdot \\frac{1}{\\widehat y} + (1-y) \\cdot \\frac{1}{1-\\widehat y} = \\\\\n",
    "\\frac{\\widehat y - y}{\\widehat y ( 1 - \\widehat y)}\n",
    "$$\n",
    "\n",
    "Putting it all together,\n",
    "$$\n",
    "\\frac{\\partial \\mathbf{J}}{\\partial a_k} = \n",
    "\\frac{\\partial \\mathbf{J}}{\\partial \\widehat y} \\cdot \\frac{\\partial \\widehat y}{\\partial z} \\cdot \\frac{\\partial z}{\\partial a_k} = \\\\\n",
    "\\frac{\\widehat y - y}{\\widehat y ( 1 - \\widehat y)} \\cdot \\widehat y ( 1-\\widehat y ) \\cdot x_k = \\\\\n",
    "(\\widehat y - y) \\cdot x_k\n",
    "$$\n",
    "\n",
    "which you have to admit is pretty cool: this is the residual (i.e. difference between the predicted and oberverd probabilities, $\\widehat y - y$), so 0 when you got it right and 1 or -1 when you got it completely wrong, multiplied by the stength of the signal, so that strong signals (large $x_k$) have a stonger gradient and stonger effect on the result.\n",
    "\n",
    "This was the gradient for a single sample. We average it over all samples to get a good estimate of the \"real gradient\" (law of large numbers etc.)."
   ]
  },
  {
   "cell_type": "markdown",
   "metadata": {},
   "source": [
    "# Exercise: gradient descent\n",
    "\n",
    "See below the implementation of the `gradient_descent` function, similar to the one we had in the [linear model session](linear-model.ipynb), which returns updated values for the coefficients `W` and the bias (intercept) `b` based on one iteration of the gradient descent algorithm.\n",
    "\n",
    "The function is missing a computation of `db`, the derivative of the cross entropty with respect to the bias $\\frac{\\partial \\mathbf{J}}{\\partial b}$.\n",
    "\n",
    "**Complete the missing part**.\n",
    "$$\n",
    "\\frac{\\partial \\mathbf{J}}{\\partial b} = \\frac{\\partial \\mathbf{J}}{\\partial \\widehat y} \\cdot \\frac{\\partial \\widehat y}{\\partial z} \\cdot \\frac{\\partial z}{\\partial b} = \\\\\n",
    "\\frac{\\widehat y - y}{\\widehat y ( 1 - \\widehat y)} \\cdot \\widehat y ( 1-\\widehat y ) \\cdot 1 = \\hat y - y\n",
    "$$\n",
    "\n",
    "You can check the [solution](../solutions/logistic_model.py)."
   ]
  },
  {
   "cell_type": "code",
   "execution_count": 79,
   "metadata": {},
   "outputs": [],
   "source": [
    "def gradient_descent(X, Y, W, b, η=0.01):\n",
    "    Yhat = expit(logodds(X, W, b))\n",
    "    δ = Yhat - Y\n",
    "    dW = X.T @ δ / δ.shape[0]\n",
    "    # your code here #\n",
    "    ##################\n",
    "    db = δ.mean()\n",
    "    assert dW.shape == W.shape\n",
    "    return W - η * dW, b - η * db"
   ]
  },
  {
   "cell_type": "markdown",
   "metadata": {},
   "source": [
    "When your solution is ready, comment out the first line of the next cell and run it."
   ]
  },
  {
   "cell_type": "code",
   "execution_count": 91,
   "metadata": {},
   "outputs": [
    {
     "name": "stdout",
     "output_type": "stream",
     "text": [
      "[1.01032242 0.09091559 0.95601805]\n",
      "0.9704347293729116\n"
     ]
    }
   ],
   "source": [
    "W, b = gradient_descent(X, Y, W, b)\n",
    "print(W)\n",
    "print(b)"
   ]
  },
  {
   "cell_type": "code",
   "execution_count": 92,
   "metadata": {},
   "outputs": [
    {
     "name": "stdout",
     "output_type": "stream",
     "text": [
      "[ 1.01234969 -0.08778365  0.94737017]\n",
      "0.9646790145091647\n"
     ]
    }
   ],
   "source": [
    "W, b = gradient_descent(X, Y, W, b)\n",
    "print(W)\n",
    "print(b)"
   ]
  },
  {
   "cell_type": "markdown",
   "metadata": {},
   "source": [
    "# Fitting the logistic model"
   ]
  },
  {
   "cell_type": "markdown",
   "metadata": {},
   "source": [
    "Fitting the model is done in much the same way as we did with the linear model - just have to choose initial coefficeints, different stopping condition, and adjust to the API of the new `gradient_descent` function.\n",
    "\n",
    "This time we stop when the difference in cross entropy between two iterations is smaller than some value ($10^{-4}$)."
   ]
  },
  {
   "cell_type": "code",
   "execution_count": 93,
   "metadata": {},
   "outputs": [],
   "source": [
    "def logistic_model(X, Y, W=(1, 1, 1), b=1, iters=70_000):\n",
    "    W = np.array(W)\n",
    "    for t in range(iters+1):\n",
    "        W, b = gradient_descent(X, Y, W, b)\n",
    "        if t % (iters//10) == 0:\n",
    "            J = cross_entropy(X, Y, W, b)\n",
    "            print(\"{}: J={:.6f}, W={}, b={:.4f}\".format(t, J, W, b))        \n",
    "    return W, b"
   ]
  },
  {
   "cell_type": "code",
   "execution_count": 103,
   "metadata": {},
   "outputs": [
    {
     "name": "stdout",
     "output_type": "stream",
     "text": [
      "0: J=16.138615, W=[1.00206753 0.81814626 0.99119069], b=0.9941\n",
      "7000: J=0.458089, W=[ 2.34412618 -0.02125825 -0.99875103], b=1.6301\n",
      "14000: J=0.454292, W=[ 2.45377245 -0.02946886 -1.15259186], b=2.0941\n",
      "21000: J=0.453515, W=[ 2.48855149 -0.03334021 -1.22299454], b=2.3080\n",
      "28000: J=0.453339, W=[ 2.50530107 -0.03518222 -1.25655783], b=2.4097\n",
      "35000: J=0.453298, W=[ 2.51374367 -0.03607299 -1.27284646], b=2.4590\n",
      "42000: J=0.453288, W=[ 2.51797098 -0.03650804 -1.28081906], b=2.4831\n",
      "49000: J=0.453286, W=[ 2.52007293 -0.03672163 -1.28473755], b=2.4949\n",
      "56000: J=0.453285, W=[ 2.52111408 -0.03682676 -1.28666739], b=2.5007\n",
      "63000: J=0.453285, W=[ 2.5216288  -0.03687858 -1.28761878], b=2.5036\n",
      "70000: J=0.453285, W=[ 2.52188304 -0.03690413 -1.28808805], b=2.5050\n"
     ]
    }
   ],
   "source": [
    "W, b = logistic_model(X, Y)"
   ]
  },
  {
   "cell_type": "code",
   "execution_count": 100,
   "metadata": {},
   "outputs": [
    {
     "name": "stdout",
     "output_type": "stream",
     "text": [
      "Odds-ratios:\n",
      "bias:\t12.244\n",
      "Sex:\t12.452\n",
      "Age:\t0.964\n",
      "Pclass:\t0.276\n"
     ]
    }
   ],
   "source": [
    "# each weight has a linear effect on the log odds ratio\n",
    "# so the exponent of the weight has a multiplicative effect on the odds ratio \n",
    "print(\"Odds-ratios:\")\n",
    "print(\"bias:\\t{:.3f}\".format(np.exp(b)))\n",
    "for i, var in enumerate(features):\n",
    "    print(\"{}:\\t{:.3f}\".format(var, np.exp(W[i])))"
   ]
  },
  {
   "cell_type": "markdown",
   "metadata": {},
   "source": [
    "We can interpret these results as follows:\n",
    "- a baby of indetermined sex in first class ($\\mathbf{X}=(0,0,0)$) was 12-fold more likely to survive than to die\n",
    "- women were 12-fold more likely to survive than men\n",
    "- older passengers were less likely to survive: each additional year reduced odds of survival by 3.5%\n",
    "- passengers with expensive tickets were much move likely to survive: each reduction in class reduced survival by ~73%.\n"
   ]
  },
  {
   "cell_type": "markdown",
   "metadata": {},
   "source": [
    "## Model prediction"
   ]
  },
  {
   "cell_type": "markdown",
   "metadata": {},
   "source": [
    "Our model outputs *probabilities*, and we need to convert these to classes. \n",
    "We will just decide that if the predicted survival probability is 0.5 then that person survived.\n",
    "\n",
    "A good score for a classification problem is the *accuracy*, which tells us the fraction of cases in which our model agrees with the truth."
   ]
  },
  {
   "cell_type": "code",
   "execution_count": 101,
   "metadata": {},
   "outputs": [
    {
     "name": "stdout",
     "output_type": "stream",
     "text": [
      "Accuracy: 78.85%\n"
     ]
    }
   ],
   "source": [
    "Yhat = expit(logodds(X, W, b))\n",
    "accuracy = ((Yhat>0.5) == Y).mean()\n",
    "\n",
    "print(\"Accuracy: {:.2%}\".format(accuracy))"
   ]
  },
  {
   "cell_type": "markdown",
   "metadata": {},
   "source": [
    "# COVID-19 fatality data\n",
    "\n",
    "We will do another example, this time using COVID-19 data.\n",
    "\n",
    "The dataset includes case details for over 7500 patients from Singapore, Hong Kong, Philippines, and South Korea. \n",
    "Details include age, sex, nationality, status, and dates.\n",
    "\n",
    "Data obtained from [dolthub](https://www.dolthub.com/repositories/Liquidata/corona-virus/doc/master/README.md)."
   ]
  },
  {
   "cell_type": "code",
   "execution_count": 111,
   "metadata": {},
   "outputs": [
    {
     "data": {
      "text/html": [
       "<div>\n",
       "<style scoped>\n",
       "    .dataframe tbody tr th:only-of-type {\n",
       "        vertical-align: middle;\n",
       "    }\n",
       "\n",
       "    .dataframe tbody tr th {\n",
       "        vertical-align: top;\n",
       "    }\n",
       "\n",
       "    .dataframe thead th {\n",
       "        text-align: right;\n",
       "    }\n",
       "</style>\n",
       "<table border=\"1\" class=\"dataframe\">\n",
       "  <thead>\n",
       "    <tr style=\"text-align: right;\">\n",
       "      <th></th>\n",
       "      <th>source</th>\n",
       "      <th>case_id</th>\n",
       "      <th>case_name</th>\n",
       "      <th>age</th>\n",
       "      <th>sex</th>\n",
       "      <th>nationality</th>\n",
       "      <th>current_status</th>\n",
       "      <th>symptomatic_date</th>\n",
       "      <th>confirmed_date</th>\n",
       "      <th>recovered_date</th>\n",
       "      <th>place_id</th>\n",
       "      <th>province_state</th>\n",
       "      <th>country_region</th>\n",
       "      <th>latitude</th>\n",
       "      <th>longitude</th>\n",
       "    </tr>\n",
       "  </thead>\n",
       "  <tbody>\n",
       "    <tr>\n",
       "      <th>0</th>\n",
       "      <td>https://coronavirus-ph-api.now.sh/cases</td>\n",
       "      <td>1</td>\n",
       "      <td>NaN</td>\n",
       "      <td>38.0</td>\n",
       "      <td>F</td>\n",
       "      <td>Chinese</td>\n",
       "      <td>Recovered</td>\n",
       "      <td>NaN</td>\n",
       "      <td>2020-01-30 00:00:00</td>\n",
       "      <td>NaN</td>\n",
       "      <td>48</td>\n",
       "      <td>NaN</td>\n",
       "      <td>Philippines</td>\n",
       "      <td>13.0</td>\n",
       "      <td>122.0</td>\n",
       "    </tr>\n",
       "    <tr>\n",
       "      <th>1</th>\n",
       "      <td>https://coronavirus-ph-api.now.sh/cases</td>\n",
       "      <td>2</td>\n",
       "      <td>NaN</td>\n",
       "      <td>44.0</td>\n",
       "      <td>M</td>\n",
       "      <td>Chinese</td>\n",
       "      <td>Died</td>\n",
       "      <td>NaN</td>\n",
       "      <td>2020-02-02 00:00:00</td>\n",
       "      <td>NaN</td>\n",
       "      <td>48</td>\n",
       "      <td>NaN</td>\n",
       "      <td>Philippines</td>\n",
       "      <td>13.0</td>\n",
       "      <td>122.0</td>\n",
       "    </tr>\n",
       "    <tr>\n",
       "      <th>2</th>\n",
       "      <td>https://coronavirus-ph-api.now.sh/cases</td>\n",
       "      <td>3</td>\n",
       "      <td>NaN</td>\n",
       "      <td>60.0</td>\n",
       "      <td>F</td>\n",
       "      <td>Chinese</td>\n",
       "      <td>Recovered</td>\n",
       "      <td>NaN</td>\n",
       "      <td>2020-02-05 00:00:00</td>\n",
       "      <td>NaN</td>\n",
       "      <td>48</td>\n",
       "      <td>NaN</td>\n",
       "      <td>Philippines</td>\n",
       "      <td>13.0</td>\n",
       "      <td>122.0</td>\n",
       "    </tr>\n",
       "    <tr>\n",
       "      <th>3</th>\n",
       "      <td>https://coronavirus-ph-api.now.sh/cases</td>\n",
       "      <td>4</td>\n",
       "      <td>NaN</td>\n",
       "      <td>48.0</td>\n",
       "      <td>M</td>\n",
       "      <td>Filipino</td>\n",
       "      <td>Recovered</td>\n",
       "      <td>NaN</td>\n",
       "      <td>2020-03-05 00:00:00</td>\n",
       "      <td>NaN</td>\n",
       "      <td>48</td>\n",
       "      <td>NaN</td>\n",
       "      <td>Philippines</td>\n",
       "      <td>13.0</td>\n",
       "      <td>122.0</td>\n",
       "    </tr>\n",
       "    <tr>\n",
       "      <th>4</th>\n",
       "      <td>https://coronavirus-ph-api.now.sh/cases</td>\n",
       "      <td>5</td>\n",
       "      <td>NaN</td>\n",
       "      <td>62.0</td>\n",
       "      <td>M</td>\n",
       "      <td>Filipino</td>\n",
       "      <td>Died</td>\n",
       "      <td>NaN</td>\n",
       "      <td>2020-03-05 00:00:00</td>\n",
       "      <td>NaN</td>\n",
       "      <td>48</td>\n",
       "      <td>NaN</td>\n",
       "      <td>Philippines</td>\n",
       "      <td>13.0</td>\n",
       "      <td>122.0</td>\n",
       "    </tr>\n",
       "  </tbody>\n",
       "</table>\n",
       "</div>"
      ],
      "text/plain": [
       "                                    source  case_id case_name   age sex  \\\n",
       "0  https://coronavirus-ph-api.now.sh/cases        1       NaN  38.0   F   \n",
       "1  https://coronavirus-ph-api.now.sh/cases        2       NaN  44.0   M   \n",
       "2  https://coronavirus-ph-api.now.sh/cases        3       NaN  60.0   F   \n",
       "3  https://coronavirus-ph-api.now.sh/cases        4       NaN  48.0   M   \n",
       "4  https://coronavirus-ph-api.now.sh/cases        5       NaN  62.0   M   \n",
       "\n",
       "  nationality current_status symptomatic_date       confirmed_date  \\\n",
       "0     Chinese      Recovered              NaN  2020-01-30 00:00:00   \n",
       "1     Chinese           Died              NaN  2020-02-02 00:00:00   \n",
       "2     Chinese      Recovered              NaN  2020-02-05 00:00:00   \n",
       "3    Filipino      Recovered              NaN  2020-03-05 00:00:00   \n",
       "4    Filipino           Died              NaN  2020-03-05 00:00:00   \n",
       "\n",
       "  recovered_date  place_id province_state country_region  latitude  longitude  \n",
       "0            NaN        48            NaN    Philippines      13.0      122.0  \n",
       "1            NaN        48            NaN    Philippines      13.0      122.0  \n",
       "2            NaN        48            NaN    Philippines      13.0      122.0  \n",
       "3            NaN        48            NaN    Philippines      13.0      122.0  \n",
       "4            NaN        48            NaN    Philippines      13.0      122.0  "
      ]
     },
     "execution_count": 111,
     "metadata": {},
     "output_type": "execute_result"
    }
   ],
   "source": [
    "df = pd.read_csv(\"../data/covid-19_case_details.csv\")\n",
    "df.head()"
   ]
  },
  {
   "cell_type": "markdown",
   "metadata": {},
   "source": [
    "## Data formatting for linear model"
   ]
  },
  {
   "cell_type": "markdown",
   "metadata": {},
   "source": [
    "We convert the places names from a categorical (text) variable to four dummy varaibles that take values 0 or 1. We do this because logistic regression takes numeric values. By having one \"boolean\" variable per country, we will be able to estimate the effect of each place on probability to die from COVID-19."
   ]
  },
  {
   "cell_type": "code",
   "execution_count": 112,
   "metadata": {},
   "outputs": [
    {
     "data": {
      "text/plain": [
       "Korea, South    3326\n",
       "Singapore       1000\n",
       "China            495\n",
       "Philippines      217\n",
       "Name: country_region, dtype: int64"
      ]
     },
     "execution_count": 112,
     "metadata": {},
     "output_type": "execute_result"
    }
   ],
   "source": [
    "df['country_region'].value_counts()"
   ]
  },
  {
   "cell_type": "code",
   "execution_count": 113,
   "metadata": {},
   "outputs": [
    {
     "data": {
      "text/html": [
       "<div>\n",
       "<style scoped>\n",
       "    .dataframe tbody tr th:only-of-type {\n",
       "        vertical-align: middle;\n",
       "    }\n",
       "\n",
       "    .dataframe tbody tr th {\n",
       "        vertical-align: top;\n",
       "    }\n",
       "\n",
       "    .dataframe thead th {\n",
       "        text-align: right;\n",
       "    }\n",
       "</style>\n",
       "<table border=\"1\" class=\"dataframe\">\n",
       "  <thead>\n",
       "    <tr style=\"text-align: right;\">\n",
       "      <th></th>\n",
       "      <th>Hong Kong</th>\n",
       "      <th>South Korea</th>\n",
       "      <th>Philippines</th>\n",
       "      <th>Singapore</th>\n",
       "    </tr>\n",
       "  </thead>\n",
       "  <tbody>\n",
       "    <tr>\n",
       "      <th>0</th>\n",
       "      <td>0</td>\n",
       "      <td>0</td>\n",
       "      <td>1</td>\n",
       "      <td>0</td>\n",
       "    </tr>\n",
       "    <tr>\n",
       "      <th>1</th>\n",
       "      <td>0</td>\n",
       "      <td>0</td>\n",
       "      <td>1</td>\n",
       "      <td>0</td>\n",
       "    </tr>\n",
       "    <tr>\n",
       "      <th>2</th>\n",
       "      <td>0</td>\n",
       "      <td>0</td>\n",
       "      <td>1</td>\n",
       "      <td>0</td>\n",
       "    </tr>\n",
       "    <tr>\n",
       "      <th>3</th>\n",
       "      <td>0</td>\n",
       "      <td>0</td>\n",
       "      <td>1</td>\n",
       "      <td>0</td>\n",
       "    </tr>\n",
       "    <tr>\n",
       "      <th>4</th>\n",
       "      <td>0</td>\n",
       "      <td>0</td>\n",
       "      <td>1</td>\n",
       "      <td>0</td>\n",
       "    </tr>\n",
       "  </tbody>\n",
       "</table>\n",
       "</div>"
      ],
      "text/plain": [
       "   Hong Kong  South Korea  Philippines  Singapore\n",
       "0          0            0            1          0\n",
       "1          0            0            1          0\n",
       "2          0            0            1          0\n",
       "3          0            0            1          0\n",
       "4          0            0            1          0"
      ]
     },
     "execution_count": 113,
     "metadata": {},
     "output_type": "execute_result"
    }
   ],
   "source": [
    "dummies = pd.get_dummies(df['country_region'])\n",
    "dummies = dummies.rename(columns={'China':'Hong Kong', 'Korea, South':'South Korea'})\n",
    "countries = dummies.columns\n",
    "df = pd.concat((df, dummies), axis=1)\n",
    "dummies.head()"
   ]
  },
  {
   "cell_type": "code",
   "execution_count": 115,
   "metadata": {},
   "outputs": [
    {
     "data": {
      "text/html": [
       "<div>\n",
       "<style scoped>\n",
       "    .dataframe tbody tr th:only-of-type {\n",
       "        vertical-align: middle;\n",
       "    }\n",
       "\n",
       "    .dataframe tbody tr th {\n",
       "        vertical-align: top;\n",
       "    }\n",
       "\n",
       "    .dataframe thead th {\n",
       "        text-align: right;\n",
       "    }\n",
       "</style>\n",
       "<table border=\"1\" class=\"dataframe\">\n",
       "  <thead>\n",
       "    <tr style=\"text-align: right;\">\n",
       "      <th></th>\n",
       "      <th>source</th>\n",
       "      <th>case_id</th>\n",
       "      <th>case_name</th>\n",
       "      <th>age</th>\n",
       "      <th>sex</th>\n",
       "      <th>nationality</th>\n",
       "      <th>current_status</th>\n",
       "      <th>symptomatic_date</th>\n",
       "      <th>confirmed_date</th>\n",
       "      <th>recovered_date</th>\n",
       "      <th>place_id</th>\n",
       "      <th>province_state</th>\n",
       "      <th>country_region</th>\n",
       "      <th>latitude</th>\n",
       "      <th>longitude</th>\n",
       "      <th>Hong Kong</th>\n",
       "      <th>South Korea</th>\n",
       "      <th>Philippines</th>\n",
       "      <th>Singapore</th>\n",
       "    </tr>\n",
       "  </thead>\n",
       "  <tbody>\n",
       "    <tr>\n",
       "      <th>0</th>\n",
       "      <td>https://coronavirus-ph-api.now.sh/cases</td>\n",
       "      <td>1</td>\n",
       "      <td>NaN</td>\n",
       "      <td>38.0</td>\n",
       "      <td>F</td>\n",
       "      <td>Chinese</td>\n",
       "      <td>Recovered</td>\n",
       "      <td>NaN</td>\n",
       "      <td>2020-01-30 00:00:00</td>\n",
       "      <td>NaN</td>\n",
       "      <td>48</td>\n",
       "      <td>NaN</td>\n",
       "      <td>Philippines</td>\n",
       "      <td>13.0</td>\n",
       "      <td>122.0</td>\n",
       "      <td>0</td>\n",
       "      <td>0</td>\n",
       "      <td>1</td>\n",
       "      <td>0</td>\n",
       "    </tr>\n",
       "    <tr>\n",
       "      <th>1</th>\n",
       "      <td>https://coronavirus-ph-api.now.sh/cases</td>\n",
       "      <td>2</td>\n",
       "      <td>NaN</td>\n",
       "      <td>44.0</td>\n",
       "      <td>M</td>\n",
       "      <td>Chinese</td>\n",
       "      <td>Died</td>\n",
       "      <td>NaN</td>\n",
       "      <td>2020-02-02 00:00:00</td>\n",
       "      <td>NaN</td>\n",
       "      <td>48</td>\n",
       "      <td>NaN</td>\n",
       "      <td>Philippines</td>\n",
       "      <td>13.0</td>\n",
       "      <td>122.0</td>\n",
       "      <td>0</td>\n",
       "      <td>0</td>\n",
       "      <td>1</td>\n",
       "      <td>0</td>\n",
       "    </tr>\n",
       "    <tr>\n",
       "      <th>2</th>\n",
       "      <td>https://coronavirus-ph-api.now.sh/cases</td>\n",
       "      <td>3</td>\n",
       "      <td>NaN</td>\n",
       "      <td>60.0</td>\n",
       "      <td>F</td>\n",
       "      <td>Chinese</td>\n",
       "      <td>Recovered</td>\n",
       "      <td>NaN</td>\n",
       "      <td>2020-02-05 00:00:00</td>\n",
       "      <td>NaN</td>\n",
       "      <td>48</td>\n",
       "      <td>NaN</td>\n",
       "      <td>Philippines</td>\n",
       "      <td>13.0</td>\n",
       "      <td>122.0</td>\n",
       "      <td>0</td>\n",
       "      <td>0</td>\n",
       "      <td>1</td>\n",
       "      <td>0</td>\n",
       "    </tr>\n",
       "    <tr>\n",
       "      <th>3</th>\n",
       "      <td>https://coronavirus-ph-api.now.sh/cases</td>\n",
       "      <td>4</td>\n",
       "      <td>NaN</td>\n",
       "      <td>48.0</td>\n",
       "      <td>M</td>\n",
       "      <td>Filipino</td>\n",
       "      <td>Recovered</td>\n",
       "      <td>NaN</td>\n",
       "      <td>2020-03-05 00:00:00</td>\n",
       "      <td>NaN</td>\n",
       "      <td>48</td>\n",
       "      <td>NaN</td>\n",
       "      <td>Philippines</td>\n",
       "      <td>13.0</td>\n",
       "      <td>122.0</td>\n",
       "      <td>0</td>\n",
       "      <td>0</td>\n",
       "      <td>1</td>\n",
       "      <td>0</td>\n",
       "    </tr>\n",
       "    <tr>\n",
       "      <th>4</th>\n",
       "      <td>https://coronavirus-ph-api.now.sh/cases</td>\n",
       "      <td>5</td>\n",
       "      <td>NaN</td>\n",
       "      <td>62.0</td>\n",
       "      <td>M</td>\n",
       "      <td>Filipino</td>\n",
       "      <td>Died</td>\n",
       "      <td>NaN</td>\n",
       "      <td>2020-03-05 00:00:00</td>\n",
       "      <td>NaN</td>\n",
       "      <td>48</td>\n",
       "      <td>NaN</td>\n",
       "      <td>Philippines</td>\n",
       "      <td>13.0</td>\n",
       "      <td>122.0</td>\n",
       "      <td>0</td>\n",
       "      <td>0</td>\n",
       "      <td>1</td>\n",
       "      <td>0</td>\n",
       "    </tr>\n",
       "  </tbody>\n",
       "</table>\n",
       "</div>"
      ],
      "text/plain": [
       "                                    source  case_id case_name   age sex  \\\n",
       "0  https://coronavirus-ph-api.now.sh/cases        1       NaN  38.0   F   \n",
       "1  https://coronavirus-ph-api.now.sh/cases        2       NaN  44.0   M   \n",
       "2  https://coronavirus-ph-api.now.sh/cases        3       NaN  60.0   F   \n",
       "3  https://coronavirus-ph-api.now.sh/cases        4       NaN  48.0   M   \n",
       "4  https://coronavirus-ph-api.now.sh/cases        5       NaN  62.0   M   \n",
       "\n",
       "  nationality current_status symptomatic_date       confirmed_date  \\\n",
       "0     Chinese      Recovered              NaN  2020-01-30 00:00:00   \n",
       "1     Chinese           Died              NaN  2020-02-02 00:00:00   \n",
       "2     Chinese      Recovered              NaN  2020-02-05 00:00:00   \n",
       "3    Filipino      Recovered              NaN  2020-03-05 00:00:00   \n",
       "4    Filipino           Died              NaN  2020-03-05 00:00:00   \n",
       "\n",
       "  recovered_date  place_id province_state country_region  latitude  longitude  \\\n",
       "0            NaN        48            NaN    Philippines      13.0      122.0   \n",
       "1            NaN        48            NaN    Philippines      13.0      122.0   \n",
       "2            NaN        48            NaN    Philippines      13.0      122.0   \n",
       "3            NaN        48            NaN    Philippines      13.0      122.0   \n",
       "4            NaN        48            NaN    Philippines      13.0      122.0   \n",
       "\n",
       "   Hong Kong  South Korea  Philippines  Singapore  \n",
       "0          0            0            1          0  \n",
       "1          0            0            1          0  \n",
       "2          0            0            1          0  \n",
       "3          0            0            1          0  \n",
       "4          0            0            1          0  "
      ]
     },
     "execution_count": 115,
     "metadata": {},
     "output_type": "execute_result"
    }
   ],
   "source": [
    "df.head()"
   ]
  },
  {
   "cell_type": "markdown",
   "metadata": {},
   "source": [
    "There are multiple rows for some cases (i.e. patients), so we take the last row for each case. Also, the case identifiers are unique _per country_."
   ]
  },
  {
   "cell_type": "code",
   "execution_count": 116,
   "metadata": {},
   "outputs": [],
   "source": [
    "df = df.groupby(['place_id', 'case_id']).last()\n",
    "df = df.reset_index()"
   ]
  },
  {
   "cell_type": "markdown",
   "metadata": {},
   "source": [
    "We filter in only cases that ended with recovery or death, the rest of the cases are undertermined yet.\n",
    "\n",
    "We then create a boolean column for recovery."
   ]
  },
  {
   "cell_type": "code",
   "execution_count": 117,
   "metadata": {},
   "outputs": [],
   "source": [
    "dead = df['current_status'].isin(['deceased', 'Died', 'Dead', 'deceased', 'Desceased'])\n",
    "recovered = df['current_status'].isin(['Released', 'released', 'Recovered'])\n",
    "df = df[dead | recovered]\n",
    "df['recovered'] = recovered.astype(int)"
   ]
  },
  {
   "cell_type": "markdown",
   "metadata": {},
   "source": [
    "We convert sex to an integer, and extract only the variables of interest."
   ]
  },
  {
   "cell_type": "code",
   "execution_count": 118,
   "metadata": {},
   "outputs": [
    {
     "data": {
      "text/html": [
       "<div>\n",
       "<style scoped>\n",
       "    .dataframe tbody tr th:only-of-type {\n",
       "        vertical-align: middle;\n",
       "    }\n",
       "\n",
       "    .dataframe tbody tr th {\n",
       "        vertical-align: top;\n",
       "    }\n",
       "\n",
       "    .dataframe thead th {\n",
       "        text-align: right;\n",
       "    }\n",
       "</style>\n",
       "<table border=\"1\" class=\"dataframe\">\n",
       "  <thead>\n",
       "    <tr style=\"text-align: right;\">\n",
       "      <th></th>\n",
       "      <th>recovered</th>\n",
       "      <th>sex</th>\n",
       "      <th>age</th>\n",
       "      <th>Hong Kong</th>\n",
       "      <th>South Korea</th>\n",
       "      <th>Philippines</th>\n",
       "      <th>Singapore</th>\n",
       "    </tr>\n",
       "  </thead>\n",
       "  <tbody>\n",
       "    <tr>\n",
       "      <th>1</th>\n",
       "      <td>1</td>\n",
       "      <td>-0.5</td>\n",
       "      <td>66.0</td>\n",
       "      <td>0</td>\n",
       "      <td>0</td>\n",
       "      <td>0</td>\n",
       "      <td>1</td>\n",
       "    </tr>\n",
       "    <tr>\n",
       "      <th>2</th>\n",
       "      <td>1</td>\n",
       "      <td>0.5</td>\n",
       "      <td>53.0</td>\n",
       "      <td>0</td>\n",
       "      <td>0</td>\n",
       "      <td>0</td>\n",
       "      <td>1</td>\n",
       "    </tr>\n",
       "    <tr>\n",
       "      <th>3</th>\n",
       "      <td>1</td>\n",
       "      <td>-0.5</td>\n",
       "      <td>37.0</td>\n",
       "      <td>0</td>\n",
       "      <td>0</td>\n",
       "      <td>0</td>\n",
       "      <td>1</td>\n",
       "    </tr>\n",
       "    <tr>\n",
       "      <th>4</th>\n",
       "      <td>1</td>\n",
       "      <td>-0.5</td>\n",
       "      <td>36.0</td>\n",
       "      <td>0</td>\n",
       "      <td>0</td>\n",
       "      <td>0</td>\n",
       "      <td>1</td>\n",
       "    </tr>\n",
       "    <tr>\n",
       "      <th>5</th>\n",
       "      <td>1</td>\n",
       "      <td>0.5</td>\n",
       "      <td>56.0</td>\n",
       "      <td>0</td>\n",
       "      <td>0</td>\n",
       "      <td>0</td>\n",
       "      <td>1</td>\n",
       "    </tr>\n",
       "  </tbody>\n",
       "</table>\n",
       "</div>"
      ],
      "text/plain": [
       "   recovered  sex   age  Hong Kong  South Korea  Philippines  Singapore\n",
       "1          1 -0.5  66.0          0            0            0          1\n",
       "2          1  0.5  53.0          0            0            0          1\n",
       "3          1 -0.5  37.0          0            0            0          1\n",
       "4          1 -0.5  36.0          0            0            0          1\n",
       "5          1  0.5  56.0          0            0            0          1"
      ]
     },
     "execution_count": 118,
     "metadata": {},
     "output_type": "execute_result"
    }
   ],
   "source": [
    "female = df['sex'] == 'F' \n",
    "df.loc[female, 'sex'] = 0.5\n",
    "df.loc[~female, 'sex'] = -0.5\n",
    "\n",
    "var_names = ['recovered', 'sex', 'age'] + countries.tolist()\n",
    "df = df[var_names].copy() # what if I don't put .copy?\n",
    "df = df.dropna() # remove rows with \"not a number\" elements\n",
    "df.head()"
   ]
  },
  {
   "cell_type": "markdown",
   "metadata": {},
   "source": [
    "We extract the features to `X` and the target to `Y`."
   ]
  },
  {
   "cell_type": "code",
   "execution_count": 119,
   "metadata": {},
   "outputs": [],
   "source": [
    "X = df[var_names[1:]].values.astype(float)\n",
    "Y = df[var_names[0]].values.astype(float)"
   ]
  },
  {
   "cell_type": "markdown",
   "metadata": {},
   "source": [
    "## Data visualization\n",
    "\n",
    "We can plot the distrubtion of cases."
   ]
  },
  {
   "cell_type": "code",
   "execution_count": 26,
   "metadata": {},
   "outputs": [
    {
     "data": {
      "image/png": "[encoded data removed]",
      "text/plain": [
       "<Figure size 432x288 with 1 Axes>"
      ]
     },
     "metadata": {
      "image/png": {
       "height": 286,
       "width": 414
      }
     },
     "output_type": "display_data"
    }
   ],
   "source": [
    "kws = dict(density=True, alpha=0.5, bins=np.arange(0, df['age'].max(), 5)) # declare keyword arguments once as a dict\n",
    "\n",
    "plt.hist(df.loc[df['recovered']==0, 'age'], label='Deceased', **kws) # ** unpacks the kws dict \n",
    "plt.hist(df.loc[df['recovered']==1, 'age'], label='Recovered', **kws)\n",
    "plt.legend() # labels set in the hist call\n",
    "plt.xlabel(\"Age\")\n",
    "plt.ylabel(\"Frequency\")\n",
    "plt.ylim(0, 0.04)\n",
    "sns.despine()"
   ]
  },
  {
   "cell_type": "markdown",
   "metadata": {},
   "source": [
    "## Model fitting with Scikit-learn\n",
    "\n",
    "Now we fit a logistic model to the data. \n",
    "We will use **Scikit-learn** this time: specifically, the `sklearn.linear_model.LogisticRegression` model."
   ]
  },
  {
   "cell_type": "code",
   "execution_count": 122,
   "metadata": {},
   "outputs": [
    {
     "data": {
      "text/plain": [
       "LogisticRegression(C=1.0, class_weight=None, dual=False, fit_intercept=True,\n",
       "                   intercept_scaling=1, l1_ratio=None, max_iter=100,\n",
       "                   multi_class='auto', n_jobs=None, penalty='none',\n",
       "                   random_state=None, solver='lbfgs', tol=0.0001, verbose=0,\n",
       "                   warm_start=False)"
      ]
     },
     "execution_count": 122,
     "metadata": {},
     "output_type": "execute_result"
    }
   ],
   "source": [
    "model = LogisticRegression(penalty='none', fit_intercept=True) # by default, scikit-learn uses l2 penalty\n",
    "model.fit(X, Y)"
   ]
  },
  {
   "cell_type": "markdown",
   "metadata": {},
   "source": [
    "Here are the effects of the features, using the model coefficients."
   ]
  },
  {
   "cell_type": "code",
   "execution_count": 123,
   "metadata": {},
   "outputs": [
    {
     "name": "stdout",
     "output_type": "stream",
     "text": [
      "intercept \t2205125.7568\n",
      "sex       \t     4.2723\n",
      "age       \t     0.8991\n",
      "Hong Kong \t778621.7523\n",
      "South Korea\t     0.0061\n",
      "Philippines\t     0.0004\n",
      "Singapore \t1138892.2351\n"
     ]
    }
   ],
   "source": [
    "print(\"{:<10}\\t{:>11.4f}\".format(\"intercept\", np.exp(model.intercept_)[0]))\n",
    "for var, coef in zip(var_names[1:], np.exp(model.coef_).ravel()):\n",
    "    print(\"{:<10}\\t{:>11.4f}\".format(var, coef))"
   ]
  },
  {
   "cell_type": "markdown",
   "metadata": {},
   "source": [
    "We see that:\n",
    "- intercept: for a baby with indeterminate sex and country, the death rate is 1 to 2.2 million\n",
    "- females are about 4.3 times more likely to survive,\n",
    "- age reduces survival by ~10% per year\n",
    "- Hong Kong and Singapore are much safer, but this may be due to the effect that we have no data about deceased there."
   ]
  },
  {
   "cell_type": "markdown",
   "metadata": {},
   "source": [
    "## Classification threshold\n",
    "\n",
    "To find a good threshold for classification, lets look at the historgram of probability for death, applied to recovered (blue) and deceased (red) cases."
   ]
  },
  {
   "cell_type": "code",
   "execution_count": 125,
   "metadata": {},
   "outputs": [
    {
     "name": "stdout",
     "output_type": "stream",
     "text": [
      "Threshold: 0.06\n"
     ]
    },
    {
     "data": {
      "image/png": "[encoded data removed]",
      "text/plain": [
       "<Figure size 432x288 with 1 Axes>"
      ]
     },
     "metadata": {},
     "output_type": "display_data"
    }
   ],
   "source": [
    "logPdeceased = model.predict_log_proba(X)[:,0] # probabilities are pretty low so we use log-probabilities\n",
    "\n",
    "bins = np.linspace(-10, 0, 50)\n",
    "plt.hist(logPdeceased[Y==1], bins=bins,density=True, alpha=0.7, label='Recovered');\n",
    "plt.hist(logPdeceased[Y==0], bins=bins,density=True, alpha=0.7, label='Deceased')\n",
    "plt.xlabel(r'Probability to die, $1-\\hat{y}$')\n",
    "plt.ylabel('Frequency')\n",
    "xticks = plt.xticks()[0]\n",
    "plt.xticks(xticks, np.round(np.exp(xticks), 4))\n",
    "plt.xlim(bins.min(), bins.max())\n",
    "plt.axvline(-2.75, color='k')\n",
    "print(\"Threshold: {:.2f}\".format(np.exp(-2.75)))\n",
    "plt.legend()\n",
    "sns.despine()"
   ]
  },
  {
   "cell_type": "markdown",
   "metadata": {},
   "source": [
    "The threshold we pick (i.e. 0.06) can balance between the probability to give an incorrect positive answer and the probability to give a correct positive answer.\n",
    "These are called the false-positive rate and true-positive rates.\n",
    "\n",
    "Think for example on what we would like to do if we are trying to predict if a person is has a disease. \n",
    "You might consider that it is preferable to sometimes tell someone they are ill when they are actually not, and then running more tests, rather than sometimes telling people they are healthy when they are actually ill, and having them cause damage to themselves or others.\n",
    "\n",
    "Let's suppose that a positive answer is \"person survived the Titanic\" that is $y=1$ or `truth==1` and use *scikit-learn*'s utility to calculate and plot the [Receiver operating characteristic](https://en.wikipedia.org/wiki/Receiver_operating_characteristic) curve.\n",
    "\n",
    "An \"ideal\" model will shoot directly to the top, that is, have maximum TPR for any FPR.\n",
    "A \"random\" or \"naive\" model can be expected to follow the dashed line.\n",
    "\n",
    "Indeed if we look at the ROC curve, the threshold we choose is right on the \"knee\" of the curve."
   ]
  },
  {
   "cell_type": "code",
   "execution_count": 33,
   "metadata": {},
   "outputs": [
    {
     "data": {
      "image/png": "[encoded data removed]",
      "text/plain": [
       "<Figure size 432x288 with 1 Axes>"
      ]
     },
     "metadata": {
      "image/png": {
       "height": 280,
       "width": 405
      }
     },
     "output_type": "display_data"
    }
   ],
   "source": [
    "Yhat = model.predict_proba(X)[:,1]\n",
    "\n",
    "fpr, tpr, thresholds = roc_curve(Y, Yhat)\n",
    "plt.plot(fpr, tpr)\n",
    "plt.xlabel(\"False positive rate\")\n",
    "plt.ylabel(\"True positive rate\")\n",
    "idx = (thresholds < 1-0.06).argmax()\n",
    "plt.plot(fpr[idx], tpr[idx], 'ok');"
   ]
  },
  {
   "cell_type": "markdown",
   "metadata": {},
   "source": [
    "We plot the probability to die for each age in each countries, separated by sex."
   ]
  },
  {
   "cell_type": "code",
   "execution_count": 35,
   "metadata": {},
   "outputs": [
    {
     "data": {
      "image/png": "[encoded data removed]",
      "text/plain": [
       "<Figure size 576x432 with 4 Axes>"
      ]
     },
     "metadata": {
      "image/png": {
       "height": 405,
       "width": 550
      }
     },
     "output_type": "display_data"
    }
   ],
   "source": [
    "fig, axes = plt.subplots(2, 2, figsize=(8, 6), sharex=True, sharey='col')\n",
    "for country, ax in zip(sorted(countries), axes.flat):\n",
    "    df_ = df[df[country]==1]\n",
    "    df_ = df_.sort_values('age')\n",
    "    X_ = df_[var_names[1:]]\n",
    "    Y_ = df_[var_names[0]]\n",
    "    Pdie_ = model.predict_proba(X_)[:,0]\n",
    "    female = df_['sex'] > 0\n",
    "    ax.plot(X_.loc[female, 'age'], Pdie_[female], '-', color=red, label='Female')\n",
    "    ax.plot(X_.loc[~female, 'age'], Pdie_[~female], '-', color=blue, label='Male')\n",
    "    ax.set(title=country)\n",
    "axes[0,0].legend(loc='upper left')\n",
    "axes[0,0].set(ylabel='Probability to die')\n",
    "axes[1,0].set(xlabel='Age', ylabel='Probability to die', xticks=[0, 20, 40, 60, 80, 100])\n",
    "axes[1,1].set(xlabel='Age', xticks=[0, 20, 40, 60, 80, 100])\n",
    "fig.tight_layout()"
   ]
  },
  {
   "cell_type": "markdown",
   "metadata": {},
   "source": [
    "# References\n",
    "\n",
    "- Pawitan Y, 2001. *In all likelihood: statistical modelling and inference using likelihood*. **Ch. 6.2**.\n",
    "- Cyrille Rossant, 2014. [IPython Interactive Computing and Visualization Cookbook](https://ipython-books.github.io/cookbook/) (a similar Titanic example is shown in chapter \"Predicting who will survive on the Titanic with logistic regression\"). \n",
    "- Scikit-learn documentation has a [tutorial](http://scikit-learn.org/stable/tutorial/statistical_inference/supervised_learning.html#classification) using the classical Iris dataset, with examples for other classification methods other than logistic regression."
   ]
  },
  {
   "cell_type": "markdown",
   "metadata": {},
   "source": [
    "# Colophon\n",
    "This notebook was written by [Yoav Ram](http://python.yoavram.com) and is part of the [_Scientific Computing with Python_](https://scicompy.yoavram.com/) course at IDC Herzliya.\n",
    "\n",
    "The notebook was written using [Python](http://python.org/) 3.6.5.\n",
    "Dependencies listed in [environment.yml](../environment.yml).\n",
    "\n",
    "This work is licensed under a CC BY-NC-SA 4.0 International License.\n",
    "\n",
    "![Python logo](https://www.python.org/static/community_logos/python-logo.png)"
   ]
  }
 ],
 "metadata": {
  "kernelspec": {
   "display_name": "data_science",
   "language": "python",
   "name": "data_science"
  },
  "language_info": {
   "codemirror_mode": {
    "name": "ipython",
    "version": 3
   },
   "file_extension": ".py",
   "mimetype": "text/x-python",
   "name": "python",
   "nbconvert_exporter": "python",
   "pygments_lexer": "ipython3",
   "version": "3.7.7"
  }
 },
 "nbformat": 4,
 "nbformat_minor": 4
}
